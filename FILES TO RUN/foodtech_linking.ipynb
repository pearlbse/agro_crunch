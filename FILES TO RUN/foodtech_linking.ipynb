{
 "cells": [
  {
   "cell_type": "markdown",
   "metadata": {},
   "source": [
    "#### Linking Datasets: Foodtech\n",
    "\n",
    "+ **Main input:** output of `create_foodtech.py` - the csv file `input/foodtech.csv`\n",
    "\n",
    "+ **Other inputs:** csv files from main input Crunchbase's `bulk download` method \n",
    "\n",
    "+ **Other inputs:**  the output from `impute_postal_codes.py` and `concat_all.py` - the csv file `postal_codes.csv`\n",
    "\n",
    "+ **Reference files:** `variables.csv` for a list of variables for each csv\n",
    "\n",
    "+ **Output file:** `foodtech_final.csv`\n",
    "\n",
    "*Creates a database that merges datasets contained in csv's retrieved via Crunchbase's `bulk download` method.\n",
    "Database is uniquely identified by funding rounds and agrofood tech startups*\n",
    "\n",
    "\n",
    "\n",
    "\n",
    "| Organization | Funding Round   |\n",
    "|--------------|-----------------|\n",
    "| org_1        | funding_round_A |\n",
    "| org_1        | funding_round_B |\n",
    "| org_2        | NaN             |\n",
    "| org_3        | funding_round_C |\n",
    "\n"
   ]
  },
  {
   "cell_type": "code",
   "execution_count": 35,
   "metadata": {},
   "outputs": [],
   "source": [
    "import pandas as pd\n",
    "import warnings\n",
    "\n",
    "warnings.filterwarnings(\"ignore\")\n",
    "\n",
    "folder = '../bulk_download/'\n",
    "\n",
    "orgs = pd.read_csv('../input/foodtech.csv')"
   ]
  },
  {
   "cell_type": "markdown",
   "metadata": {},
   "source": [
    "`organizations`"
   ]
  },
  {
   "cell_type": "code",
   "execution_count": 36,
   "metadata": {},
   "outputs": [],
   "source": [
    "orgs = orgs[['uuid', 'name','cb_url', 'homepage_url', 'type', 'rank',\n",
    "            'country_code',  'region', 'city', 'postal_code', \n",
    "            'status', 'short_description',\n",
    "            'category_list', 'category_groups_list',   \n",
    "            'founded_on', 'closed_on', 'employee_count',  \n",
    "            'facebook_url', 'linkedin_url', 'twitter_url',  'num_exits']]"
   ]
  },
  {
   "cell_type": "markdown",
   "metadata": {},
   "source": [
    "`organization_description`"
   ]
  },
  {
   "cell_type": "code",
   "execution_count": 37,
   "metadata": {},
   "outputs": [],
   "source": [
    "file = 'organization_descriptions.csv'\n",
    "desc = pd.read_csv(folder + file)"
   ]
  },
  {
   "cell_type": "code",
   "execution_count": 38,
   "metadata": {},
   "outputs": [],
   "source": [
    "df = pd.merge(orgs, desc[['uuid', 'description']], how='left', on='uuid')"
   ]
  },
  {
   "cell_type": "code",
   "execution_count": 39,
   "metadata": {},
   "outputs": [],
   "source": [
    "del orgs\n",
    "del desc"
   ]
  },
  {
   "cell_type": "code",
   "execution_count": 40,
   "metadata": {},
   "outputs": [],
   "source": [
    "df.rename(columns={\n",
    "\n",
    "                   'type':              'Type_x', \n",
    "                   'uuid':              'org_uuid', \n",
    "                   'name':              'Organization Name',\n",
    "                   'cb_url':            'Organization Name URL', \n",
    "                   'rank':              'CB Rank Company',   \n",
    "                   'homepage_url':      'Organization Website', \n",
    "                   'country_code':      'Headquarters Location Country',\n",
    "                   'region':            'Headquarters Location Region', \n",
    "                   'city':              'Headquarters Location City', \n",
    "                   'postal_code':       'Headquarters Location Postal Code', \n",
    "                   'status':            'Operating Status', \n",
    "                   'short_description': 'Short Description',\n",
    "                   'description':       'Full Description',\n",
    "                   'category_list':     'Organization Industries',\n",
    "                   'category_groups_list': 'Organization Industry Groups', \n",
    "                   'founded_on':        'Founded Date', \n",
    "                   'closed_on':         'Closed Date', \n",
    "                   'employee_count':    'Number of Employees',\n",
    "                   'facebook_url':      'Facebook', \n",
    "                   'linkedin_url':      'LinkedIn', \n",
    "                   'twitter_url':       'Twitter', \n",
    "                   'num_exits':         'Number of Exits'\n",
    "\n",
    "       }, inplace=True)\n",
    "\n",
    "df['Founded Year'] = df['Founded Date'].str[:4]\n"
   ]
  },
  {
   "cell_type": "code",
   "execution_count": 41,
   "metadata": {},
   "outputs": [
    {
     "name": "stdout",
     "output_type": "stream",
     "text": [
      "Resulting number of entries:  166742\n"
     ]
    }
   ],
   "source": [
    "print('Resulting number of entries: ', len(df))"
   ]
  },
  {
   "cell_type": "markdown",
   "metadata": {},
   "source": [
    "`funding_rounds`"
   ]
  },
  {
   "cell_type": "code",
   "execution_count": 42,
   "metadata": {},
   "outputs": [],
   "source": [
    "file = 'funding_rounds.csv'\n",
    "rounds = pd.read_csv(folder + file)"
   ]
  },
  {
   "cell_type": "code",
   "execution_count": 43,
   "metadata": {},
   "outputs": [],
   "source": [
    "rounds = rounds[['uuid',\n",
    "                 'cb_url', \n",
    "                 'rank',\n",
    "                 'name', \n",
    "                 'type',\n",
    "                 'investment_type', \n",
    "                 'announced_on',\n",
    "                 'raised_amount_usd', \n",
    "                 'raised_amount', \n",
    "                 'raised_amount_currency_code', \n",
    "                 'investor_count', \n",
    "                 'lead_investor_uuids', \n",
    "                 'org_uuid']]\n"
   ]
  },
  {
   "cell_type": "code",
   "execution_count": 44,
   "metadata": {},
   "outputs": [],
   "source": [
    "rounds.rename(columns={\n",
    "\n",
    "                'uuid':             'transaction_uuid',\n",
    "                'cb_url':           'Transaction Name URL', \n",
    "                'name':             'Transaction Name', \n",
    "                'rank':             'CBRank Funding Round',\n",
    "                'type':             'Type',\n",
    "                'investment_type':  'Funding Type', \n",
    "                'announced_on':     'Announced Date',\n",
    "                'raised_amount_usd': 'Money Raised Currency in USD', \n",
    "                'raised_amount':    'Money Raised', \n",
    "                'raised_amount_currency_code': 'Money Raised Currency', \n",
    "                'investor_count':   'Number of Investors'\n",
    "\n",
    "                }, inplace=True)\n",
    "\n",
    "rounds['Announced Year'] = rounds['Announced Date'].str[:4]\n"
   ]
  },
  {
   "cell_type": "code",
   "execution_count": 45,
   "metadata": {},
   "outputs": [
    {
     "name": "stdout",
     "output_type": "stream",
     "text": [
      "Resulting number of entries:  189306\n"
     ]
    }
   ],
   "source": [
    "df = pd.merge(df, rounds, how='left', on='org_uuid')\n",
    "\n",
    "df['Type'].fillna(df['Type_x'], inplace=True)\n",
    "df.drop(['Type_x'], axis=1, inplace=True)\n",
    "\n",
    "print('Resulting number of entries: ', len(df))"
   ]
  },
  {
   "cell_type": "code",
   "execution_count": 46,
   "metadata": {},
   "outputs": [],
   "source": [
    "del rounds  "
   ]
  },
  {
   "cell_type": "markdown",
   "metadata": {},
   "source": [
    "`investment_partners`"
   ]
  },
  {
   "cell_type": "code",
   "execution_count": 47,
   "metadata": {},
   "outputs": [],
   "source": [
    "file = 'investment_partners.csv'\n",
    "partners = pd.read_csv(folder + file)\n",
    "partners = partners.groupby('funding_round_uuid').size().reset_index(name='Number of Partner Investors')"
   ]
  },
  {
   "cell_type": "code",
   "execution_count": 48,
   "metadata": {},
   "outputs": [],
   "source": [
    "df = pd.merge(df, partners, how='left', left_on='transaction_uuid', right_on='funding_round_uuid')\n",
    "df.drop(columns=['funding_round_uuid'], inplace=True)"
   ]
  },
  {
   "cell_type": "code",
   "execution_count": 49,
   "metadata": {},
   "outputs": [],
   "source": [
    "del partners"
   ]
  },
  {
   "cell_type": "markdown",
   "metadata": {},
   "source": [
    "`investors`"
   ]
  },
  {
   "cell_type": "code",
   "execution_count": 50,
   "metadata": {},
   "outputs": [],
   "source": [
    "file = 'investors.csv'\n",
    "investors = pd.read_csv(folder + file)\n",
    "\n",
    "inv = df[['transaction_uuid', 'lead_investor_uuids']]"
   ]
  },
  {
   "cell_type": "code",
   "execution_count": 51,
   "metadata": {},
   "outputs": [],
   "source": [
    "expanded_columns = inv['lead_investor_uuids'].str.split(',', expand=True)\n",
    "\n",
    "inv = pd.concat([inv['transaction_uuid'], expanded_columns], axis=1)\n",
    "inv = inv.melt(id_vars=['transaction_uuid'], value_name='lead_investor_uuid')\n",
    "inv.dropna(subset=['lead_investor_uuid'], inplace=True)"
   ]
  },
  {
   "cell_type": "code",
   "execution_count": 52,
   "metadata": {},
   "outputs": [],
   "source": [
    "inv = pd.merge(inv, investors, left_on='lead_investor_uuid', right_on='uuid', how='left')\n",
    "inv = inv[['transaction_uuid', 'name', 'investor_types']]"
   ]
  },
  {
   "cell_type": "code",
   "execution_count": 53,
   "metadata": {},
   "outputs": [],
   "source": [
    "inv['investor_types'] = inv['investor_types'].apply(lambda x: [x])\n",
    "inv = inv.groupby('transaction_uuid').agg({'name': list, 'investor_types': list}).reset_index()\n",
    "\n",
    "inv.rename(columns={'name': 'Investor Names',\n",
    "                    'investor_types': 'Investor Type'}, inplace=True)"
   ]
  },
  {
   "cell_type": "code",
   "execution_count": 54,
   "metadata": {},
   "outputs": [],
   "source": [
    "df = pd.merge(df, inv, how='left', on='transaction_uuid')"
   ]
  },
  {
   "cell_type": "code",
   "execution_count": 55,
   "metadata": {},
   "outputs": [],
   "source": [
    "del expanded_columns\n",
    "del inv\n",
    "del investors"
   ]
  },
  {
   "cell_type": "markdown",
   "metadata": {},
   "source": [
    "`people`"
   ]
  },
  {
   "cell_type": "code",
   "execution_count": 56,
   "metadata": {},
   "outputs": [],
   "source": [
    "file = 'people.csv'\n",
    "people = pd.read_csv(folder + file)"
   ]
  },
  {
   "cell_type": "code",
   "execution_count": 57,
   "metadata": {},
   "outputs": [],
   "source": [
    "people['featured_job_title'].fillna('', inplace=True)\n",
    "people = people[people['featured_job_title'].str.contains('Founder')]\n",
    "people = people.groupby('featured_job_organization_uuid').agg({'name': list, 'gender': list}).reset_index()\n",
    "\n",
    "people.rename(columns={'name': 'Founders', \n",
    "                       'gender': 'Founder Genders'}, inplace=True)"
   ]
  },
  {
   "cell_type": "code",
   "execution_count": 58,
   "metadata": {},
   "outputs": [],
   "source": [
    "def has_female(lst):\n",
    "    return 1 if 'female' in lst else 0\n",
    "\n",
    "people['Female Founders'] = people['Founder Genders'].apply(has_female)"
   ]
  },
  {
   "cell_type": "code",
   "execution_count": 59,
   "metadata": {},
   "outputs": [
    {
     "name": "stdout",
     "output_type": "stream",
     "text": [
      "Resulting number of entries:  189306\n"
     ]
    }
   ],
   "source": [
    "df = pd.merge(df, people, how='left', left_on='org_uuid', right_on='featured_job_organization_uuid')\n",
    "\n",
    "print('Resulting number of entries: ', len(df))\n"
   ]
  },
  {
   "cell_type": "code",
   "execution_count": 60,
   "metadata": {},
   "outputs": [],
   "source": [
    "del people"
   ]
  },
  {
   "cell_type": "markdown",
   "metadata": {},
   "source": [
    "`acquisitions`"
   ]
  },
  {
   "cell_type": "code",
   "execution_count": 61,
   "metadata": {},
   "outputs": [],
   "source": [
    "file = 'acquisitions.csv'\n",
    "acq = pd.read_csv(folder + file)"
   ]
  },
  {
   "cell_type": "code",
   "execution_count": 62,
   "metadata": {},
   "outputs": [],
   "source": [
    "acq = acq[['cb_url',\n",
    "           'name',\n",
    "           'rank',\n",
    "           'type',\n",
    "           'acquiree_uuid', \n",
    "           'acquiree_name',  \n",
    "           'acquirer_name',  \n",
    "           'acquirer_cb_url',\n",
    "           'acquisition_type', \n",
    "           'acquired_on', \n",
    "           'price_usd', \n",
    "           'price', \n",
    "           'price_currency_code']]"
   ]
  },
  {
   "cell_type": "code",
   "execution_count": 63,
   "metadata": {},
   "outputs": [],
   "source": [
    "acq.rename(columns={\n",
    "    \n",
    "            'cb_url':           'Transaction Name URL_x',\n",
    "            'name':             'Transaction Name_x',\n",
    "            'type':             'Type_x',\n",
    "            'rank':             'CBRank Funding Round_x',\n",
    "            'acquiree_uuid':    'org_uuid', \n",
    "            'acquiree_name':    'Organization Name',  \n",
    "            'acquirer_name':    'Acquired By',  \n",
    "            'acquirer_cb_url':  'Acquired By URL',\n",
    "            'acquisition_type': 'Acquisition Type', \n",
    "            'acquired_on':      'Acquisition Date', \n",
    "            'price_usd':        'Acquisition Price in USD', \n",
    "            'price':            'Acquisition Price', \n",
    "            'price_currency_code': 'Acquisition Currency'\n",
    "\n",
    "            }, inplace=True)"
   ]
  },
  {
   "cell_type": "code",
   "execution_count": 64,
   "metadata": {},
   "outputs": [],
   "source": [
    "df = pd.merge(df, acq, how='left', on=['org_uuid', 'Organization Name'])"
   ]
  },
  {
   "cell_type": "code",
   "execution_count": 65,
   "metadata": {},
   "outputs": [],
   "source": [
    "df['Transaction Name URL'].fillna(df['Transaction Name URL_x'], inplace=True)\n",
    "df['Transaction Name'].fillna(df['Transaction Name_x'], inplace=True)\n",
    "df['Type'].fillna(df['Type_x'], inplace=True)\n",
    "df['CBRank Funding Round'].fillna(df['CBRank Funding Round_x'], inplace=True)\n",
    "\n",
    "df.drop(['Transaction Name URL_x', \n",
    "         'Transaction Name_x', \n",
    "         'Type_x', \n",
    "         'CBRank Funding Round_x'], \n",
    "         axis=1, inplace=True)"
   ]
  },
  {
   "cell_type": "code",
   "execution_count": 66,
   "metadata": {},
   "outputs": [],
   "source": [
    "del acq"
   ]
  },
  {
   "cell_type": "code",
   "execution_count": 67,
   "metadata": {},
   "outputs": [
    {
     "name": "stdout",
     "output_type": "stream",
     "text": [
      "Resulting number of entries:  190335\n"
     ]
    }
   ],
   "source": [
    "print('Resulting number of entries: ', len(df))"
   ]
  },
  {
   "cell_type": "markdown",
   "metadata": {},
   "source": [
    "*Merging postal codes*"
   ]
  },
  {
   "cell_type": "code",
   "execution_count": 73,
   "metadata": {},
   "outputs": [],
   "source": [
    "file = '../output/postal_codes.csv'\n",
    "codes = pd.read_csv(file)\n",
    "\n",
    "cols = ['uuid', 'pc_cb', 'pc_fill', 'lat_fill', 'long_fill']\n",
    "codes = codes[cols]"
   ]
  },
  {
   "cell_type": "code",
   "execution_count": 76,
   "metadata": {},
   "outputs": [],
   "source": [
    "df = pd.merge(df, codes, how='left', left_on='org_uuid', right_on='uuid')"
   ]
  },
  {
   "cell_type": "code",
   "execution_count": 77,
   "metadata": {},
   "outputs": [],
   "source": [
    "del codes"
   ]
  },
  {
   "cell_type": "code",
   "execution_count": 79,
   "metadata": {},
   "outputs": [
    {
     "name": "stdout",
     "output_type": "stream",
     "text": [
      "Resulting shape of dataframe:  (190335, 54)\n"
     ]
    }
   ],
   "source": [
    "print('Resulting shape of dataframe: ', df.shape)"
   ]
  },
  {
   "cell_type": "markdown",
   "metadata": {},
   "source": [
    "*Cleaning*"
   ]
  },
  {
   "cell_type": "code",
   "execution_count": 80,
   "metadata": {},
   "outputs": [],
   "source": [
    "order = [\n",
    "    \n",
    "    'Type',\n",
    "    'CBRank Funding Round',\n",
    "    'Transaction Name',\n",
    "    'Transaction Name URL',\n",
    "    'Funding Type',\n",
    "    'Announced Date',\n",
    "    'Announced Year',\n",
    "    'Organization Name',\n",
    "    'Organization Name URL',\n",
    "    'Short Description',\n",
    "    'Full Description',\n",
    "    'Investor Names',\n",
    "    'Investor Type',\n",
    "    'Number of Investors',\n",
    "    'Number of Partner Investors',\n",
    "    'Organization Industries',\n",
    "    'Organization Industry Groups',\n",
    "    # 'Aggregated Mode Sector',\n",
    "    # 'CCI',\n",
    "    'Money Raised',\n",
    "    'Money Raised Currency',\n",
    "    'Money Raised Currency in USD',\n",
    "    'Founded Date',\n",
    "    'Founded Year',\n",
    "    'Operating Status',\n",
    "    'Headquarters Location City',\n",
    "    'Headquarters Location Region',\n",
    "    'Headquarters Location Country',\n",
    "    'Headquarters Location Postal Code',\n",
    "    'CB Rank Company',\n",
    "    'Closed Date',\n",
    "    'Number of Employees',\n",
    "    'Acquired By',\n",
    "    'Acquired By URL',\n",
    "    'Acquisition Type', \n",
    "    'Acquisition Date', \n",
    "    'Acquisition Price in USD',\n",
    "    'Acquisition Price', \n",
    "    'Acquisition Currency',\n",
    "    'LinkedIn',\n",
    "    'Organization Website',\n",
    "    'Twitter',\n",
    "    'Facebook',\n",
    "    'Founders',\n",
    "    'Founder Genders',\n",
    "    'Female Founders',\n",
    "    'pc_cb', \n",
    "    'pc_fill', \n",
    "    'lat_fill', \n",
    "    'long_fill'\n",
    "]\n",
    "\n",
    "df = df[order]\n"
   ]
  },
  {
   "cell_type": "markdown",
   "metadata": {},
   "source": [
    "*Save as csv*"
   ]
  },
  {
   "cell_type": "code",
   "execution_count": 81,
   "metadata": {},
   "outputs": [],
   "source": [
    "df.to_csv('../output/foodtech_final.csv')"
   ]
  }
 ],
 "metadata": {
  "kernelspec": {
   "display_name": "base",
   "language": "python",
   "name": "python3"
  },
  "language_info": {
   "codemirror_mode": {
    "name": "ipython",
    "version": 3
   },
   "file_extension": ".py",
   "mimetype": "text/x-python",
   "name": "python",
   "nbconvert_exporter": "python",
   "pygments_lexer": "ipython3",
   "version": "3.11.9"
  }
 },
 "nbformat": 4,
 "nbformat_minor": 2
}
