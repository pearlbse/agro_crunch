{
 "cells": [
  {
   "cell_type": "code",
   "execution_count": 2,
   "metadata": {},
   "outputs": [],
   "source": [
    "import pandas as pd\n",
    "import warnings\n",
    "# from unidecode import unidecode\n",
    "\n",
    "# from fuzzywuzzy import fuzz\n",
    "# from fuzzywuzzy import process\n",
    "\n",
    "warnings.filterwarnings(\"ignore\")\n",
    "\n",
    "iso2 = 'CN'\n",
    "iso3 = 'CHN'\n",
    "\n",
    "# Crunchbase Dataframe\n",
    "df = pd.read_csv('general/CHN_processed.csv')\n",
    "\n",
    "# Postal Codes\n",
    "codes_original = pd.read_json('input/geonames.json')\n",
    "codes = codes_original.copy()     \n",
    "codes = codes[codes['country_code'] == iso2]\n",
    "\n",
    "# codes['admin_name1'] = codes['admin_name1'].apply(lambda x: unidecode(x) if x is not None else None)\n",
    "# codes['admin_name2'] = codes['admin_name2'].apply(lambda x: unidecode(x) if x is not None else None)\n",
    "# codes['place_name'] = codes['place_name'].apply(lambda x: unidecode(x) if x is not None else None)\n",
    "\n",
    "ref = pd.read_excel('input/foodtech_legacy_vasiliki.xlsx')\n",
    "ref = ref[ref['ISO'] == iso3]\n",
    "\n",
    "ref = ref[['City', 'New name ', 'Country.1',  'LONG', 'LAT']]\n",
    "ref.columns = map(str.lower, ref.columns)\n",
    "ref.drop_duplicates(subset='city', inplace=True)\n",
    "\n",
    "merged_df = pd.merge(df, ref, how='left', on='city')\n",
    "\n",
    "\n",
    "\n"
   ]
  },
  {
   "cell_type": "code",
   "execution_count": null,
   "metadata": {},
   "outputs": [],
   "source": []
  },
  {
   "cell_type": "code",
   "execution_count": 3,
   "metadata": {},
   "outputs": [
    {
     "name": "stdout",
     "output_type": "stream",
     "text": [
      "<class 'pandas.core.frame.DataFrame'>\n",
      "Int64Index: 3187 entries, 0 to 3186\n",
      "Data columns (total 15 columns):\n",
      " #   Column         Non-Null Count  Dtype  \n",
      "---  ------         --------------  -----  \n",
      " 0   Unnamed: 0     3187 non-null   int64  \n",
      " 1   uuid           3187 non-null   object \n",
      " 2   country_code   3187 non-null   object \n",
      " 3   state_code     0 non-null      float64\n",
      " 4   region         3187 non-null   object \n",
      " 5   city           3187 non-null   object \n",
      " 6   address        1503 non-null   object \n",
      " 7   pc_crunchbase  741 non-null    object \n",
      " 8   pc_filled      3052 non-null   float64\n",
      " 9   latitude       2817 non-null   float64\n",
      " 10  longitude      2817 non-null   float64\n",
      " 11  new name       151 non-null    object \n",
      " 12  country.1      151 non-null    object \n",
      " 13  long           151 non-null    object \n",
      " 14  lat            151 non-null    object \n",
      "dtypes: float64(4), int64(1), object(10)\n",
      "memory usage: 398.4+ KB\n"
     ]
    }
   ],
   "source": [
    "merged_df.info()"
   ]
  }
 ],
 "metadata": {
  "kernelspec": {
   "display_name": "base",
   "language": "python",
   "name": "python3"
  },
  "language_info": {
   "codemirror_mode": {
    "name": "ipython",
    "version": 3
   },
   "file_extension": ".py",
   "mimetype": "text/x-python",
   "name": "python",
   "nbconvert_exporter": "python",
   "pygments_lexer": "ipython3",
   "version": "3.9.13"
  }
 },
 "nbformat": 4,
 "nbformat_minor": 2
}
