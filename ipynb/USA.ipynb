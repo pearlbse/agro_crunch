{
 "cells": [
  {
   "cell_type": "markdown",
   "metadata": {},
   "source": [
    "### USA\n",
    "\n",
    "+ `admin_name1` = `region`\n",
    "+ `place_name` = `city`"
   ]
  },
  {
   "cell_type": "code",
   "execution_count": 2,
   "metadata": {},
   "outputs": [],
   "source": [
    "import pandas as pd\n",
    "import warnings\n",
    "\n",
    "warnings.filterwarnings(\"ignore\")"
   ]
  },
  {
   "cell_type": "markdown",
   "metadata": {},
   "source": [
    "**Crunchbase Dataframe**"
   ]
  },
  {
   "cell_type": "code",
   "execution_count": 3,
   "metadata": {},
   "outputs": [
    {
     "name": "stdout",
     "output_type": "stream",
     "text": [
      "<class 'pandas.core.frame.DataFrame'>\n",
      "Int64Index: 62446 entries, 0 to 163819\n",
      "Data columns (total 7 columns):\n",
      " #   Column        Non-Null Count  Dtype \n",
      "---  ------        --------------  ----- \n",
      " 0   uuid          62446 non-null  object\n",
      " 1   country_code  62446 non-null  object\n",
      " 2   state_code    62446 non-null  object\n",
      " 3   region        62446 non-null  object\n",
      " 4   city          62446 non-null  object\n",
      " 5   address       44895 non-null  object\n",
      " 6   postal_code   45652 non-null  object\n",
      "dtypes: object(7)\n",
      "memory usage: 3.8+ MB\n"
     ]
    }
   ],
   "source": [
    "df = pd.read_csv('input/foodtech.csv')\n",
    "df = df[df['country_code'] == 'USA']\n",
    "df = df[['uuid','country_code', 'state_code', 'region', 'city', 'address', 'postal_code']]\n",
    "df.info()"
   ]
  },
  {
   "cell_type": "markdown",
   "metadata": {},
   "source": [
    "*Reformatting*"
   ]
  },
  {
   "cell_type": "code",
   "execution_count": 60,
   "metadata": {},
   "outputs": [],
   "source": [
    "df['city'] = df['city'].apply(lambda x: 'Saint ' + x[3:] if x.startswith('St ') else x)\n",
    "df['city'] = df['city'].apply(lambda x: 'Saint ' + x[4:] if x.startswith('St. ') else x)"
   ]
  },
  {
   "cell_type": "markdown",
   "metadata": {},
   "source": [
    "**Postal Codes**\n",
    "\n",
    "`admin_name1`"
   ]
  },
  {
   "cell_type": "code",
   "execution_count": 61,
   "metadata": {},
   "outputs": [],
   "source": [
    "codes = pd.read_json('input/geonames.json')\n",
    "codes = codes[codes['country_code'] == 'US']"
   ]
  },
  {
   "cell_type": "code",
   "execution_count": 62,
   "metadata": {},
   "outputs": [],
   "source": [
    "codes['postal_code'] = codes['postal_code'].astype(str).str.zfill(5)"
   ]
  },
  {
   "cell_type": "code",
   "execution_count": 63,
   "metadata": {},
   "outputs": [],
   "source": [
    "codes = codes[['postal_code', 'place_name', 'admin_name1', 'admin_code1']]\n",
    "codes.drop_duplicates(subset=['place_name', 'admin_name1', 'admin_code1'], inplace=True)"
   ]
  },
  {
   "cell_type": "markdown",
   "metadata": {},
   "source": [
    "*Merging*"
   ]
  },
  {
   "cell_type": "code",
   "execution_count": 64,
   "metadata": {},
   "outputs": [],
   "source": [
    "merged_df = pd.merge(df, codes, left_on=['city', 'region'], right_on=['place_name', 'admin_name1'], how='left')"
   ]
  },
  {
   "cell_type": "code",
   "execution_count": 65,
   "metadata": {},
   "outputs": [
    {
     "name": "stdout",
     "output_type": "stream",
     "text": [
      "<class 'pandas.core.frame.DataFrame'>\n",
      "Int64Index: 62446 entries, 0 to 62445\n",
      "Data columns (total 11 columns):\n",
      " #   Column         Non-Null Count  Dtype \n",
      "---  ------         --------------  ----- \n",
      " 0   uuid           62446 non-null  object\n",
      " 1   country_code   62446 non-null  object\n",
      " 2   state_code     62446 non-null  object\n",
      " 3   region         62446 non-null  object\n",
      " 4   city           62446 non-null  object\n",
      " 5   address        44895 non-null  object\n",
      " 6   postal_code_x  45652 non-null  object\n",
      " 7   postal_code_y  61352 non-null  object\n",
      " 8   place_name     61352 non-null  object\n",
      " 9   admin_name1    61352 non-null  object\n",
      " 10  admin_code1    61352 non-null  object\n",
      "dtypes: object(11)\n",
      "memory usage: 5.7+ MB\n"
     ]
    }
   ],
   "source": [
    "merged_df.info()"
   ]
  },
  {
   "cell_type": "markdown",
   "metadata": {},
   "source": [
    "*Checking matches*"
   ]
  },
  {
   "cell_type": "code",
   "execution_count": 66,
   "metadata": {},
   "outputs": [
    {
     "data": {
      "text/plain": [
       "False    46835\n",
       "True     15611\n",
       "Name: match, dtype: int64"
      ]
     },
     "execution_count": 66,
     "metadata": {},
     "output_type": "execute_result"
    }
   ],
   "source": [
    "matches = merged_df[['postal_code_x', 'postal_code_y']]\n",
    "matches['match'] = matches['postal_code_x'] == matches['postal_code_y']\n",
    "matches['match'].value_counts()"
   ]
  },
  {
   "cell_type": "code",
   "execution_count": 67,
   "metadata": {},
   "outputs": [
    {
     "name": "stdout",
     "output_type": "stream",
     "text": [
      "<class 'pandas.core.frame.DataFrame'>\n",
      "Int64Index: 62446 entries, 0 to 62445\n",
      "Data columns (total 3 columns):\n",
      " #   Column         Non-Null Count  Dtype \n",
      "---  ------         --------------  ----- \n",
      " 0   postal_code_x  45652 non-null  object\n",
      " 1   postal_code_y  61352 non-null  object\n",
      " 2   match          62446 non-null  bool  \n",
      "dtypes: bool(1), object(2)\n",
      "memory usage: 1.5+ MB\n"
     ]
    }
   ],
   "source": [
    "matches.info()"
   ]
  },
  {
   "cell_type": "markdown",
   "metadata": {},
   "source": [
    "Differences can be attributed to \n",
    "+ NaN in crunchbase data\n",
    "+ Same city, different neighbourhood: 75014 vs 75009"
   ]
  },
  {
   "cell_type": "markdown",
   "metadata": {},
   "source": [
    "*Dealing with NaNs*\n",
    "\n",
    "+ NaNs attributed to cities not present in external database. Why? idk"
   ]
  },
  {
   "cell_type": "code",
   "execution_count": 68,
   "metadata": {},
   "outputs": [],
   "source": [
    "nan_df = merged_df[merged_df['postal_code_y'].isna()]"
   ]
  },
  {
   "cell_type": "code",
   "execution_count": 69,
   "metadata": {},
   "outputs": [
    {
     "name": "stdout",
     "output_type": "stream",
     "text": [
      "<class 'pandas.core.frame.DataFrame'>\n",
      "Int64Index: 1094 entries, 256 to 62378\n",
      "Data columns (total 3 columns):\n",
      " #   Column         Non-Null Count  Dtype \n",
      "---  ------         --------------  ----- \n",
      " 0   city           1094 non-null   object\n",
      " 1   postal_code_x  826 non-null    object\n",
      " 2   postal_code_y  0 non-null      object\n",
      "dtypes: object(3)\n",
      "memory usage: 34.2+ KB\n"
     ]
    }
   ],
   "source": [
    "nan_df[['city','postal_code_x', 'postal_code_y']].info()"
   ]
  },
  {
   "cell_type": "markdown",
   "metadata": {},
   "source": [
    "**Filling NaNs with Existing Postal Codes**"
   ]
  },
  {
   "cell_type": "code",
   "execution_count": 70,
   "metadata": {},
   "outputs": [
    {
     "name": "stdout",
     "output_type": "stream",
     "text": [
      "<class 'pandas.core.frame.DataFrame'>\n",
      "Int64Index: 62446 entries, 0 to 62445\n",
      "Data columns (total 11 columns):\n",
      " #   Column         Non-Null Count  Dtype \n",
      "---  ------         --------------  ----- \n",
      " 0   uuid           62446 non-null  object\n",
      " 1   country_code   62446 non-null  object\n",
      " 2   state_code     62446 non-null  object\n",
      " 3   region         62446 non-null  object\n",
      " 4   city           62446 non-null  object\n",
      " 5   address        44895 non-null  object\n",
      " 6   postal_code_x  45652 non-null  object\n",
      " 7   postal_code_y  62178 non-null  object\n",
      " 8   place_name     61352 non-null  object\n",
      " 9   admin_name1    61352 non-null  object\n",
      " 10  admin_code1    61352 non-null  object\n",
      "dtypes: object(11)\n",
      "memory usage: 5.7+ MB\n"
     ]
    }
   ],
   "source": [
    "merged_df['postal_code_y'].fillna(merged_df['postal_code_x'], inplace=True)\n",
    "merged_df.info()"
   ]
  },
  {
   "cell_type": "markdown",
   "metadata": {},
   "source": [
    "*Across rows: df*"
   ]
  },
  {
   "cell_type": "code",
   "execution_count": 71,
   "metadata": {},
   "outputs": [],
   "source": [
    "merged_df = merged_df[merged_df.columns[:-3]]"
   ]
  },
  {
   "cell_type": "code",
   "execution_count": 72,
   "metadata": {},
   "outputs": [],
   "source": [
    "codes_df = df[df['postal_code'].notna()]\n",
    "\n",
    "codes_df = codes_df[['region', 'city', 'postal_code']]\n",
    "codes_df.drop_duplicates(subset=['region', 'city'], inplace=True)"
   ]
  },
  {
   "cell_type": "code",
   "execution_count": 73,
   "metadata": {},
   "outputs": [],
   "source": [
    "merged_df = pd.merge(merged_df, codes_df, left_on=['city', 'region'], right_on=['city', 'region'], how='left')\n",
    "merged_df['postal_code_y'].fillna(merged_df['postal_code'], inplace=True)"
   ]
  },
  {
   "cell_type": "code",
   "execution_count": 74,
   "metadata": {},
   "outputs": [
    {
     "name": "stdout",
     "output_type": "stream",
     "text": [
      "<class 'pandas.core.frame.DataFrame'>\n",
      "Int64Index: 62446 entries, 0 to 62445\n",
      "Data columns (total 9 columns):\n",
      " #   Column         Non-Null Count  Dtype \n",
      "---  ------         --------------  ----- \n",
      " 0   uuid           62446 non-null  object\n",
      " 1   country_code   62446 non-null  object\n",
      " 2   state_code     62446 non-null  object\n",
      " 3   region         62446 non-null  object\n",
      " 4   city           62446 non-null  object\n",
      " 5   address        44895 non-null  object\n",
      " 6   postal_code_x  45652 non-null  object\n",
      " 7   postal_code_y  62420 non-null  object\n",
      " 8   postal_code    61338 non-null  object\n",
      "dtypes: object(9)\n",
      "memory usage: 4.8+ MB\n"
     ]
    }
   ],
   "source": [
    "merged_df.info()"
   ]
  },
  {
   "cell_type": "markdown",
   "metadata": {},
   "source": [
    "*Checking NaNs*"
   ]
  },
  {
   "cell_type": "code",
   "execution_count": 76,
   "metadata": {},
   "outputs": [
    {
     "data": {
      "text/plain": [
       "Alabama         5\n",
       "New Jersey      3\n",
       "Louisiana       2\n",
       "Wisconsin       2\n",
       "New York        2\n",
       "Florida         2\n",
       "Pennsylvania    1\n",
       "Arizona         1\n",
       "Alaska          1\n",
       "Tennessee       1\n",
       "Ohio            1\n",
       "Michigan        1\n",
       "Oregon          1\n",
       "Oklahoma        1\n",
       "Indiana         1\n",
       "Mississippi     1\n",
       "Name: region, dtype: int64"
      ]
     },
     "execution_count": 76,
     "metadata": {},
     "output_type": "execute_result"
    }
   ],
   "source": [
    "nan_df = merged_df[merged_df['postal_code_y'].isna()]\n",
    "nan_df['region'].value_counts()"
   ]
  },
  {
   "cell_type": "markdown",
   "metadata": {},
   "source": [
    "*Save to csv*"
   ]
  },
  {
   "cell_type": "code",
   "execution_count": 77,
   "metadata": {},
   "outputs": [],
   "source": [
    "merged_df = merged_df.rename(columns={'postal_code_x': 'pc_crunchbase', \n",
    "                                      'postal_code_y': 'pc_filled'})\n",
    "\n",
    "merged_df = merged_df[['uuid', 'pc_crunchbase', 'pc_filled']]\n"
   ]
  },
  {
   "cell_type": "code",
   "execution_count": 78,
   "metadata": {},
   "outputs": [],
   "source": [
    "merged_df.to_csv('processed/USA_processed.csv')"
   ]
  }
 ],
 "metadata": {
  "kernelspec": {
   "display_name": "base",
   "language": "python",
   "name": "python3"
  },
  "language_info": {
   "codemirror_mode": {
    "name": "ipython",
    "version": 3
   },
   "file_extension": ".py",
   "mimetype": "text/x-python",
   "name": "python",
   "nbconvert_exporter": "python",
   "pygments_lexer": "ipython3",
   "version": "3.9.13"
  }
 },
 "nbformat": 4,
 "nbformat_minor": 2
}
