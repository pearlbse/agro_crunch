{
 "cells": [
  {
   "cell_type": "markdown",
   "metadata": {},
   "source": [
    "### General\n",
    "\n",
    "+ `admin_name1` = `region`\n",
    "+ `admin_name2` = `city`\n",
    "+ `place_name` = `city`"
   ]
  },
  {
   "cell_type": "code",
   "execution_count": 59,
   "metadata": {},
   "outputs": [],
   "source": [
    "import pandas as pd\n",
    "import warnings\n",
    "from unidecode import unidecode\n",
    "\n",
    "warnings.filterwarnings(\"ignore\")"
   ]
  },
  {
   "cell_type": "markdown",
   "metadata": {},
   "source": [
    "**ISO Codes**"
   ]
  },
  {
   "cell_type": "code",
   "execution_count": 60,
   "metadata": {},
   "outputs": [],
   "source": [
    "iso2 = 'AU'\n",
    "iso3 = 'AUS'"
   ]
  },
  {
   "cell_type": "markdown",
   "metadata": {},
   "source": [
    "**Crunchbase Dataframe**"
   ]
  },
  {
   "cell_type": "code",
   "execution_count": 61,
   "metadata": {},
   "outputs": [
    {
     "name": "stdout",
     "output_type": "stream",
     "text": [
      "<class 'pandas.core.frame.DataFrame'>\n",
      "Int64Index: 4821 entries, 122 to 163764\n",
      "Data columns (total 7 columns):\n",
      " #   Column        Non-Null Count  Dtype \n",
      "---  ------        --------------  ----- \n",
      " 0   uuid          4821 non-null   object\n",
      " 1   country_code  4821 non-null   object\n",
      " 2   state_code    0 non-null      object\n",
      " 3   region        4821 non-null   object\n",
      " 4   city          4821 non-null   object\n",
      " 5   address       3823 non-null   object\n",
      " 6   postal_code   3827 non-null   object\n",
      "dtypes: object(7)\n",
      "memory usage: 301.3+ KB\n"
     ]
    }
   ],
   "source": [
    "df = pd.read_csv('input/foodtech.csv')\n",
    "df = df[df['country_code'] == iso3]\n",
    "df = df[['uuid','country_code', 'state_code', 'region', 'city', 'address', 'postal_code']]\n",
    "df.info()"
   ]
  },
  {
   "cell_type": "markdown",
   "metadata": {},
   "source": [
    "*Reformatting*"
   ]
  },
  {
   "cell_type": "code",
   "execution_count": 62,
   "metadata": {},
   "outputs": [],
   "source": [
    "df['city'] = df['city'].apply(unidecode)\n",
    "df['region'] = df['region'].apply(unidecode)\n",
    "\n",
    "df['city'] = df['city'].str.lower()\n",
    "df['region'] = df['region'].str.lower()"
   ]
  },
  {
   "cell_type": "markdown",
   "metadata": {},
   "source": [
    "**Postal Codes**"
   ]
  },
  {
   "cell_type": "code",
   "execution_count": 80,
   "metadata": {},
   "outputs": [],
   "source": [
    "codes = pd.read_json('input/geonames.json')\n",
    "codes = codes[codes['country_code'] == iso2]"
   ]
  },
  {
   "cell_type": "code",
   "execution_count": 64,
   "metadata": {},
   "outputs": [],
   "source": [
    "codes['admin_name1'] = codes['admin_name1'].apply(lambda x: unidecode(x) if x is not None else None)\n",
    "codes['admin_name2'] = codes['admin_name2'].apply(lambda x: unidecode(x) if x is not None else None)\n",
    "codes['place_name'] = codes['place_name'].apply(lambda x: unidecode(x) if x is not None else None)"
   ]
  },
  {
   "cell_type": "markdown",
   "metadata": {},
   "source": [
    "`admin_name2`"
   ]
  },
  {
   "cell_type": "code",
   "execution_count": 65,
   "metadata": {},
   "outputs": [],
   "source": [
    "codes1 = codes.copy()\n",
    "codes1 = codes1[['postal_code','admin_name1', 'admin_name2']]"
   ]
  },
  {
   "cell_type": "code",
   "execution_count": 66,
   "metadata": {},
   "outputs": [],
   "source": [
    "codes1['admin_name1'] = codes1['admin_name1'].str.lower()\n",
    "codes1['admin_name2'] = codes1['admin_name2'].str.lower()\n",
    "\n",
    "codes1.drop_duplicates(subset=['admin_name1', 'admin_name2'], inplace=True)"
   ]
  },
  {
   "cell_type": "code",
   "execution_count": 67,
   "metadata": {},
   "outputs": [],
   "source": [
    "merged_df = pd.merge(df, codes1, left_on=['city', 'region'], right_on=['admin_name2', 'admin_name1'], how='left')\n",
    "merged_df.drop_duplicates(subset=['uuid'], inplace=True)"
   ]
  },
  {
   "cell_type": "code",
   "execution_count": 68,
   "metadata": {},
   "outputs": [
    {
     "name": "stdout",
     "output_type": "stream",
     "text": [
      "<class 'pandas.core.frame.DataFrame'>\n",
      "Int64Index: 4821 entries, 0 to 4820\n",
      "Data columns (total 10 columns):\n",
      " #   Column         Non-Null Count  Dtype \n",
      "---  ------         --------------  ----- \n",
      " 0   uuid           4821 non-null   object\n",
      " 1   country_code   4821 non-null   object\n",
      " 2   state_code     0 non-null      object\n",
      " 3   region         4821 non-null   object\n",
      " 4   city           4821 non-null   object\n",
      " 5   address        3823 non-null   object\n",
      " 6   postal_code_x  3827 non-null   object\n",
      " 7   postal_code_y  238 non-null    object\n",
      " 8   admin_name1    238 non-null    object\n",
      " 9   admin_name2    238 non-null    object\n",
      "dtypes: object(10)\n",
      "memory usage: 414.3+ KB\n"
     ]
    }
   ],
   "source": [
    "merged_df.info()"
   ]
  },
  {
   "cell_type": "markdown",
   "metadata": {},
   "source": [
    "`place_name`"
   ]
  },
  {
   "cell_type": "code",
   "execution_count": 69,
   "metadata": {},
   "outputs": [],
   "source": [
    "codes2 = codes.copy()\n",
    "codes2 = codes2[['postal_code','admin_name1', 'place_name']]\n",
    "\n",
    "codes2['admin_name1'] = codes2['admin_name1'].str.lower()\n",
    "codes2['place_name'] = codes2['place_name'].str.lower()\n",
    "\n",
    "codes2.drop_duplicates(subset=['admin_name1', 'place_name'], inplace=True)\n"
   ]
  },
  {
   "cell_type": "code",
   "execution_count": 70,
   "metadata": {},
   "outputs": [
    {
     "name": "stdout",
     "output_type": "stream",
     "text": [
      "<class 'pandas.core.frame.DataFrame'>\n",
      "Int64Index: 4821 entries, 0 to 4820\n",
      "Data columns (total 13 columns):\n",
      " #   Column         Non-Null Count  Dtype \n",
      "---  ------         --------------  ----- \n",
      " 0   uuid           4821 non-null   object\n",
      " 1   country_code   4821 non-null   object\n",
      " 2   state_code     0 non-null      object\n",
      " 3   region         4821 non-null   object\n",
      " 4   city           4821 non-null   object\n",
      " 5   address        3823 non-null   object\n",
      " 6   postal_code_x  3827 non-null   object\n",
      " 7   postal_code_y  238 non-null    object\n",
      " 8   admin_name1_x  238 non-null    object\n",
      " 9   admin_name2    238 non-null    object\n",
      " 10  postal_code    4652 non-null   object\n",
      " 11  admin_name1_y  4652 non-null   object\n",
      " 12  place_name     4652 non-null   object\n",
      "dtypes: object(13)\n",
      "memory usage: 527.3+ KB\n"
     ]
    }
   ],
   "source": [
    "merged_df = pd.merge(merged_df, codes2, left_on=['city', 'region'], right_on=['place_name', 'admin_name1'], how='left')\n",
    "merged_df.info()"
   ]
  },
  {
   "cell_type": "markdown",
   "metadata": {},
   "source": [
    "**Filling NaNs with Existing Postal Codes**"
   ]
  },
  {
   "cell_type": "code",
   "execution_count": 71,
   "metadata": {},
   "outputs": [
    {
     "name": "stdout",
     "output_type": "stream",
     "text": [
      "<class 'pandas.core.frame.DataFrame'>\n",
      "Int64Index: 4821 entries, 0 to 4820\n",
      "Data columns (total 13 columns):\n",
      " #   Column         Non-Null Count  Dtype \n",
      "---  ------         --------------  ----- \n",
      " 0   uuid           4821 non-null   object\n",
      " 1   country_code   4821 non-null   object\n",
      " 2   state_code     0 non-null      object\n",
      " 3   region         4821 non-null   object\n",
      " 4   city           4821 non-null   object\n",
      " 5   address        3823 non-null   object\n",
      " 6   postal_code_x  3827 non-null   object\n",
      " 7   postal_code_y  4806 non-null   object\n",
      " 8   admin_name1_x  238 non-null    object\n",
      " 9   admin_name2    238 non-null    object\n",
      " 10  postal_code    4652 non-null   object\n",
      " 11  admin_name1_y  4652 non-null   object\n",
      " 12  place_name     4652 non-null   object\n",
      "dtypes: object(13)\n",
      "memory usage: 527.3+ KB\n"
     ]
    }
   ],
   "source": [
    "merged_df['postal_code_y'].fillna(merged_df['postal_code'], inplace=True)\n",
    "merged_df['postal_code_y'].fillna(merged_df['postal_code_x'], inplace=True)\n",
    "\n",
    "merged_df.info()"
   ]
  },
  {
   "cell_type": "markdown",
   "metadata": {},
   "source": [
    "*Across rows: df*"
   ]
  },
  {
   "cell_type": "code",
   "execution_count": 72,
   "metadata": {},
   "outputs": [],
   "source": [
    "merged_df = merged_df[merged_df.columns[:-5]]"
   ]
  },
  {
   "cell_type": "code",
   "execution_count": 73,
   "metadata": {},
   "outputs": [],
   "source": [
    "codes_df = df[df['postal_code'].notna()]\n",
    "\n",
    "codes_df = codes_df[['region', 'city', 'postal_code']]\n",
    "codes_df.drop_duplicates(subset=['region', 'city'], inplace=True)"
   ]
  },
  {
   "cell_type": "code",
   "execution_count": 74,
   "metadata": {},
   "outputs": [],
   "source": [
    "merged_df = pd.merge(merged_df, codes_df, left_on=['city', 'region'], right_on=['city', 'region'], how='left')\n",
    "merged_df['postal_code_y'].fillna(merged_df['postal_code'], inplace=True)"
   ]
  },
  {
   "cell_type": "code",
   "execution_count": 75,
   "metadata": {},
   "outputs": [
    {
     "name": "stdout",
     "output_type": "stream",
     "text": [
      "<class 'pandas.core.frame.DataFrame'>\n",
      "Int64Index: 4821 entries, 0 to 4820\n",
      "Data columns (total 9 columns):\n",
      " #   Column         Non-Null Count  Dtype \n",
      "---  ------         --------------  ----- \n",
      " 0   uuid           4821 non-null   object\n",
      " 1   country_code   4821 non-null   object\n",
      " 2   state_code     0 non-null      object\n",
      " 3   region         4821 non-null   object\n",
      " 4   city           4821 non-null   object\n",
      " 5   address        3823 non-null   object\n",
      " 6   postal_code_x  3827 non-null   object\n",
      " 7   postal_code_y  4815 non-null   object\n",
      " 8   postal_code    4705 non-null   object\n",
      "dtypes: object(9)\n",
      "memory usage: 376.6+ KB\n"
     ]
    }
   ],
   "source": [
    "merged_df.info()"
   ]
  },
  {
   "cell_type": "markdown",
   "metadata": {},
   "source": [
    "*Checking NaNs*"
   ]
  },
  {
   "cell_type": "code",
   "execution_count": 76,
   "metadata": {},
   "outputs": [
    {
     "data": {
      "text/plain": [
       "queensland         2\n",
       "victoria           2\n",
       "new south wales    2\n",
       "Name: region, dtype: int64"
      ]
     },
     "execution_count": 76,
     "metadata": {},
     "output_type": "execute_result"
    }
   ],
   "source": [
    "nan_df = merged_df[merged_df['postal_code_y'].isna()]\n",
    "nan_df['region'].value_counts()"
   ]
  },
  {
   "cell_type": "markdown",
   "metadata": {},
   "source": [
    "*Save to csv*"
   ]
  },
  {
   "cell_type": "code",
   "execution_count": 77,
   "metadata": {},
   "outputs": [],
   "source": [
    "merged_df = merged_df.rename(columns={'postal_code_x': 'pc_crunchbase', \n",
    "                                      'postal_code_y': 'pc_filled'})\n",
    "\n",
    "merged_df = merged_df[['uuid', 'pc_crunchbase', 'pc_filled']]\n"
   ]
  },
  {
   "cell_type": "code",
   "execution_count": 78,
   "metadata": {},
   "outputs": [],
   "source": [
    "merged_df.to_csv('general/' + iso3 + '_processed.csv')"
   ]
  }
 ],
 "metadata": {
  "kernelspec": {
   "display_name": "base",
   "language": "python",
   "name": "python3"
  },
  "language_info": {
   "codemirror_mode": {
    "name": "ipython",
    "version": 3
   },
   "file_extension": ".py",
   "mimetype": "text/x-python",
   "name": "python",
   "nbconvert_exporter": "python",
   "pygments_lexer": "ipython3",
   "version": "3.9.13"
  }
 },
 "nbformat": 4,
 "nbformat_minor": 2
}
