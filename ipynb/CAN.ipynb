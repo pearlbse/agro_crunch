{
 "cells": [
  {
   "cell_type": "markdown",
   "metadata": {},
   "source": [
    "### CAN\n",
    "\n",
    "+ `admin_name1` = `region`\n",
    "+ `admin_name2` = `city`"
   ]
  },
  {
   "cell_type": "code",
   "execution_count": 23,
   "metadata": {},
   "outputs": [],
   "source": [
    "import pandas as pd\n",
    "import warnings\n",
    "\n",
    "warnings.filterwarnings(\"ignore\")"
   ]
  },
  {
   "cell_type": "markdown",
   "metadata": {},
   "source": [
    "**Crunchbase Dataframe**"
   ]
  },
  {
   "cell_type": "code",
   "execution_count": 24,
   "metadata": {},
   "outputs": [
    {
     "name": "stdout",
     "output_type": "stream",
     "text": [
      "<class 'pandas.core.frame.DataFrame'>\n",
      "Int64Index: 6379 entries, 1 to 163780\n",
      "Data columns (total 7 columns):\n",
      " #   Column        Non-Null Count  Dtype \n",
      "---  ------        --------------  ----- \n",
      " 0   uuid          6379 non-null   object\n",
      " 1   country_code  6379 non-null   object\n",
      " 2   state_code    6379 non-null   object\n",
      " 3   region        6379 non-null   object\n",
      " 4   city          6379 non-null   object\n",
      " 5   address       4774 non-null   object\n",
      " 6   postal_code   4617 non-null   object\n",
      "dtypes: object(7)\n",
      "memory usage: 398.7+ KB\n"
     ]
    }
   ],
   "source": [
    "df = pd.read_csv('input/foodtech.csv')\n",
    "df = df[df['country_code'] == 'CAN']\n",
    "df = df[['uuid','country_code', 'state_code', 'region', 'city', 'address', 'postal_code']]\n",
    "df.info()"
   ]
  },
  {
   "cell_type": "markdown",
   "metadata": {},
   "source": [
    "*Reformatting*"
   ]
  },
  {
   "cell_type": "code",
   "execution_count": 25,
   "metadata": {},
   "outputs": [],
   "source": [
    "df['city'] = df['city'].str.replace(r'\\bNiagara-on-the-lake\\b', 'Niagara')\n",
    "df['city'] = df['city'].str.replace(r'\\bVaughan\\b', 'Woodbridge')\n",
    "df['city'] = df['city'].str.replace(r'\\bSt.\\b', 'Saint ')\n",
    "\n",
    "df['city'] = df['city'].str.lower()"
   ]
  },
  {
   "cell_type": "code",
   "execution_count": 26,
   "metadata": {},
   "outputs": [],
   "source": [
    "def format_postal_code(postal_code):\n",
    "    if pd.notna(postal_code):  \n",
    "        postal_code = postal_code.upper()\n",
    "        formatted_code = postal_code[:3] + ' ' + postal_code[3:]\n",
    "        return formatted_code\n",
    "    else:\n",
    "        return postal_code\n",
    "\n",
    "df['postal_code'] = df['postal_code'].apply(format_postal_code)"
   ]
  },
  {
   "cell_type": "markdown",
   "metadata": {},
   "source": [
    "**Postal Codes**"
   ]
  },
  {
   "cell_type": "code",
   "execution_count": 27,
   "metadata": {},
   "outputs": [],
   "source": [
    "codes = pd.read_json('input/geonames.json')\n",
    "codes = codes[codes['country_code'] == 'CA']"
   ]
  },
  {
   "cell_type": "markdown",
   "metadata": {},
   "source": [
    "`admin_name2`"
   ]
  },
  {
   "cell_type": "code",
   "execution_count": 28,
   "metadata": {},
   "outputs": [],
   "source": [
    "codes1 = codes.copy()\n",
    "codes1 = codes1[['postal_code','admin_name1', 'admin_name2']]\n",
    "codes1.drop_duplicates(subset=['admin_name1', 'admin_name2'], inplace=True)\n",
    "\n",
    "codes1['admin_name2'] = codes1['admin_name2'].str.replace(r'\\bSt.\\b', 'Saint ')\n",
    "codes1['admin_name2'] = codes['admin_name2'].str.lower()\n"
   ]
  },
  {
   "cell_type": "code",
   "execution_count": 29,
   "metadata": {},
   "outputs": [],
   "source": [
    "merged_df = pd.merge(df, codes1, left_on=['city', 'region'], right_on=['admin_name2', 'admin_name1'], how='left')\n",
    "merged_df.drop_duplicates(subset=['uuid'], inplace=True)"
   ]
  },
  {
   "cell_type": "code",
   "execution_count": 30,
   "metadata": {},
   "outputs": [
    {
     "name": "stdout",
     "output_type": "stream",
     "text": [
      "<class 'pandas.core.frame.DataFrame'>\n",
      "Int64Index: 6379 entries, 0 to 6378\n",
      "Data columns (total 10 columns):\n",
      " #   Column         Non-Null Count  Dtype \n",
      "---  ------         --------------  ----- \n",
      " 0   uuid           6379 non-null   object\n",
      " 1   country_code   6379 non-null   object\n",
      " 2   state_code     6379 non-null   object\n",
      " 3   region         6379 non-null   object\n",
      " 4   city           6379 non-null   object\n",
      " 5   address        4774 non-null   object\n",
      " 6   postal_code_x  4617 non-null   object\n",
      " 7   postal_code_y  4581 non-null   object\n",
      " 8   admin_name1    4581 non-null   object\n",
      " 9   admin_name2    4581 non-null   object\n",
      "dtypes: object(10)\n",
      "memory usage: 548.2+ KB\n"
     ]
    }
   ],
   "source": [
    "merged_df.info()"
   ]
  },
  {
   "cell_type": "markdown",
   "metadata": {},
   "source": [
    "`place_name`"
   ]
  },
  {
   "cell_type": "code",
   "execution_count": 31,
   "metadata": {},
   "outputs": [],
   "source": [
    "codes2 = codes.copy()\n",
    "codes2 = codes2[['postal_code','admin_name1', 'place_name']]\n",
    "\n",
    "codes2['place_name'] = codes2['place_name'].str.replace(r'\\s*\\(.*?\\)', '')\n",
    "\n",
    "codes2.loc[(codes2['admin_name1'] == 'Quebec') & (codes2['place_name'].str.contains('Quebec')), 'place_name'] = 'Quebec'\n",
    "codes2.loc[(codes2['admin_name1'] == 'Ontario') & (codes2['place_name'].str.contains('Brantford')), 'place_name'] = 'Brantford'\n",
    "codes2.loc[(codes2['admin_name1'] == 'Ontario') & (codes2['place_name'].str.contains('Niagara')), 'place_name'] = 'Niagara'\n",
    "\n",
    "codes2['place_name'] = codes2['place_name'].str.replace(r'\\bSt.\\b', 'Saint ')\n",
    "codes2['place_name'] = codes2['place_name'].str.lower()\n",
    "\n",
    "codes2.drop_duplicates(subset=['admin_name1', 'place_name'], inplace=True)\n"
   ]
  },
  {
   "cell_type": "code",
   "execution_count": 32,
   "metadata": {},
   "outputs": [],
   "source": [
    "merged_df = pd.merge(merged_df, codes2, left_on=['city', 'region'], right_on=['place_name', 'admin_name1'], how='left')"
   ]
  },
  {
   "cell_type": "code",
   "execution_count": 33,
   "metadata": {},
   "outputs": [
    {
     "name": "stdout",
     "output_type": "stream",
     "text": [
      "<class 'pandas.core.frame.DataFrame'>\n",
      "Int64Index: 6379 entries, 0 to 6378\n",
      "Data columns (total 13 columns):\n",
      " #   Column         Non-Null Count  Dtype \n",
      "---  ------         --------------  ----- \n",
      " 0   uuid           6379 non-null   object\n",
      " 1   country_code   6379 non-null   object\n",
      " 2   state_code     6379 non-null   object\n",
      " 3   region         6379 non-null   object\n",
      " 4   city           6379 non-null   object\n",
      " 5   address        4774 non-null   object\n",
      " 6   postal_code_x  4617 non-null   object\n",
      " 7   postal_code_y  4581 non-null   object\n",
      " 8   admin_name1_x  4581 non-null   object\n",
      " 9   admin_name2    4581 non-null   object\n",
      " 10  postal_code    3709 non-null   object\n",
      " 11  admin_name1_y  3709 non-null   object\n",
      " 12  place_name     3709 non-null   object\n",
      "dtypes: object(13)\n",
      "memory usage: 697.7+ KB\n"
     ]
    }
   ],
   "source": [
    "merged_df.info()"
   ]
  },
  {
   "cell_type": "markdown",
   "metadata": {},
   "source": [
    "*Filling NaNs*"
   ]
  },
  {
   "cell_type": "code",
   "execution_count": 34,
   "metadata": {},
   "outputs": [
    {
     "name": "stdout",
     "output_type": "stream",
     "text": [
      "<class 'pandas.core.frame.DataFrame'>\n",
      "Int64Index: 6379 entries, 0 to 6378\n",
      "Data columns (total 13 columns):\n",
      " #   Column         Non-Null Count  Dtype \n",
      "---  ------         --------------  ----- \n",
      " 0   uuid           6379 non-null   object\n",
      " 1   country_code   6379 non-null   object\n",
      " 2   state_code     6379 non-null   object\n",
      " 3   region         6379 non-null   object\n",
      " 4   city           6379 non-null   object\n",
      " 5   address        4774 non-null   object\n",
      " 6   postal_code_x  4617 non-null   object\n",
      " 7   postal_code_y  6134 non-null   object\n",
      " 8   admin_name1_x  4581 non-null   object\n",
      " 9   admin_name2    4581 non-null   object\n",
      " 10  postal_code    3709 non-null   object\n",
      " 11  admin_name1_y  3709 non-null   object\n",
      " 12  place_name     3709 non-null   object\n",
      "dtypes: object(13)\n",
      "memory usage: 697.7+ KB\n"
     ]
    }
   ],
   "source": [
    "merged_df['postal_code_y'].fillna(merged_df['postal_code'], inplace=True)\n",
    "merged_df['postal_code_y'].fillna(merged_df['postal_code_x'], inplace=True)\n",
    "\n",
    "merged_df.info()"
   ]
  },
  {
   "cell_type": "markdown",
   "metadata": {},
   "source": [
    "*Across rows: df*"
   ]
  },
  {
   "cell_type": "code",
   "execution_count": 35,
   "metadata": {},
   "outputs": [],
   "source": [
    "merged_df = merged_df[merged_df.columns[:-5]]"
   ]
  },
  {
   "cell_type": "code",
   "execution_count": 36,
   "metadata": {},
   "outputs": [],
   "source": [
    "codes_df = df[df['postal_code'].notna()]\n",
    "\n",
    "codes_df = codes_df[['region', 'city', 'postal_code']]\n",
    "codes_df.drop_duplicates(subset=['region', 'city'], inplace=True)"
   ]
  },
  {
   "cell_type": "code",
   "execution_count": 37,
   "metadata": {},
   "outputs": [],
   "source": [
    "merged_df = pd.merge(merged_df, codes_df, left_on=['city', 'region'], right_on=['city', 'region'], how='left')\n",
    "merged_df['postal_code_y'].fillna(merged_df['postal_code'], inplace=True)\n"
   ]
  },
  {
   "cell_type": "code",
   "execution_count": 38,
   "metadata": {},
   "outputs": [
    {
     "name": "stdout",
     "output_type": "stream",
     "text": [
      "<class 'pandas.core.frame.DataFrame'>\n",
      "Int64Index: 6379 entries, 0 to 6378\n",
      "Data columns (total 9 columns):\n",
      " #   Column         Non-Null Count  Dtype \n",
      "---  ------         --------------  ----- \n",
      " 0   uuid           6379 non-null   object\n",
      " 1   country_code   6379 non-null   object\n",
      " 2   state_code     6379 non-null   object\n",
      " 3   region         6379 non-null   object\n",
      " 4   city           6379 non-null   object\n",
      " 5   address        4774 non-null   object\n",
      " 6   postal_code_x  4617 non-null   object\n",
      " 7   postal_code_y  6274 non-null   object\n",
      " 8   postal_code    6253 non-null   object\n",
      "dtypes: object(9)\n",
      "memory usage: 498.4+ KB\n"
     ]
    }
   ],
   "source": [
    "merged_df.info()"
   ]
  },
  {
   "cell_type": "markdown",
   "metadata": {},
   "source": [
    "*Checking NaNs*"
   ]
  },
  {
   "cell_type": "code",
   "execution_count": 39,
   "metadata": {},
   "outputs": [
    {
     "data": {
      "text/plain": [
       "Ontario                 42\n",
       "Quebec                  21\n",
       "Nova Scotia              9\n",
       "Alberta                  9\n",
       "Saskatchewan             8\n",
       "British Columbia         7\n",
       "Prince Edward Island     4\n",
       "Manitoba                 2\n",
       "Nunavut                  1\n",
       "Newfoundland             1\n",
       "New Brunswick            1\n",
       "Name: region, dtype: int64"
      ]
     },
     "execution_count": 39,
     "metadata": {},
     "output_type": "execute_result"
    }
   ],
   "source": [
    "nan_df = merged_df[merged_df['postal_code_y'].isna()]\n",
    "nan_df['region'].value_counts()"
   ]
  },
  {
   "cell_type": "markdown",
   "metadata": {},
   "source": [
    "*Save to csv*"
   ]
  },
  {
   "cell_type": "code",
   "execution_count": 40,
   "metadata": {},
   "outputs": [],
   "source": [
    "merged_df = merged_df.rename(columns={'postal_code_x': 'pc_crunchbase', \n",
    "                                      'postal_code_y': 'pc_filled'})\n",
    "\n",
    "merged_df = merged_df[['uuid', 'pc_crunchbase', 'pc_filled']]\n"
   ]
  },
  {
   "cell_type": "code",
   "execution_count": 41,
   "metadata": {},
   "outputs": [],
   "source": [
    "merged_df.to_csv('processed/CAN_processed.csv')"
   ]
  }
 ],
 "metadata": {
  "kernelspec": {
   "display_name": "base",
   "language": "python",
   "name": "python3"
  },
  "language_info": {
   "codemirror_mode": {
    "name": "ipython",
    "version": 3
   },
   "file_extension": ".py",
   "mimetype": "text/x-python",
   "name": "python",
   "nbconvert_exporter": "python",
   "pygments_lexer": "ipython3",
   "version": "3.9.13"
  }
 },
 "nbformat": 4,
 "nbformat_minor": 2
}
