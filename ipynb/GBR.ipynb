{
 "cells": [
  {
   "cell_type": "markdown",
   "metadata": {},
   "source": [
    "### GBR\n",
    "\n",
    "+ `admin_name1` = `region`\n",
    "+ `admin_name2` = `city`\n",
    "+ `place_name` = `city`"
   ]
  },
  {
   "cell_type": "code",
   "execution_count": 38,
   "metadata": {},
   "outputs": [],
   "source": [
    "import pandas as pd\n",
    "import warnings\n",
    "from unidecode import unidecode\n",
    "\n",
    "warnings.filterwarnings(\"ignore\")"
   ]
  },
  {
   "cell_type": "markdown",
   "metadata": {},
   "source": [
    "**Crunchbase Dataframe**"
   ]
  },
  {
   "cell_type": "code",
   "execution_count": 39,
   "metadata": {},
   "outputs": [
    {
     "name": "stdout",
     "output_type": "stream",
     "text": [
      "<class 'pandas.core.frame.DataFrame'>\n",
      "Int64Index: 10825 entries, 12 to 163812\n",
      "Data columns (total 7 columns):\n",
      " #   Column        Non-Null Count  Dtype \n",
      "---  ------        --------------  ----- \n",
      " 0   uuid          10825 non-null  object\n",
      " 1   country_code  10825 non-null  object\n",
      " 2   state_code    0 non-null      object\n",
      " 3   region        10825 non-null  object\n",
      " 4   city          10825 non-null  object\n",
      " 5   address       8500 non-null   object\n",
      " 6   postal_code   8439 non-null   object\n",
      "dtypes: object(7)\n",
      "memory usage: 676.6+ KB\n"
     ]
    }
   ],
   "source": [
    "df = pd.read_csv('input/foodtech.csv')\n",
    "df = df[df['country_code'] == 'GBR']\n",
    "df = df[['uuid','country_code', 'state_code', 'region', 'city', 'address', 'postal_code']]\n",
    "df.info()"
   ]
  },
  {
   "cell_type": "markdown",
   "metadata": {},
   "source": [
    "*Reformatting*"
   ]
  },
  {
   "cell_type": "code",
   "execution_count": 40,
   "metadata": {},
   "outputs": [],
   "source": [
    "df.loc[df['region'].str.contains('yorkshire', case=False), 'region'] = 'York'"
   ]
  },
  {
   "cell_type": "markdown",
   "metadata": {},
   "source": [
    "**Postal Codes**"
   ]
  },
  {
   "cell_type": "code",
   "execution_count": 41,
   "metadata": {},
   "outputs": [],
   "source": [
    "codes = pd.read_json('input/geonames.json')\n",
    "\n",
    "codes = codes[codes['country_code'] == 'GB']\n",
    "codes = codes[['postal_code', 'place_name', 'admin_name2']]\n",
    "\n",
    "codes.drop_duplicates(subset=['place_name', 'admin_name2'], inplace=True)\n",
    "codes.drop_duplicates(subset=['postal_code','place_name', 'admin_name2'], inplace=True)"
   ]
  },
  {
   "cell_type": "code",
   "execution_count": 42,
   "metadata": {},
   "outputs": [
    {
     "name": "stdout",
     "output_type": "stream",
     "text": [
      "<class 'pandas.core.frame.DataFrame'>\n",
      "Int64Index: 26419 entries, 6397 to 1508766\n",
      "Data columns (total 3 columns):\n",
      " #   Column       Non-Null Count  Dtype \n",
      "---  ------       --------------  ----- \n",
      " 0   postal_code  26419 non-null  object\n",
      " 1   place_name   26419 non-null  object\n",
      " 2   admin_name2  26352 non-null  object\n",
      "dtypes: object(3)\n",
      "memory usage: 825.6+ KB\n"
     ]
    }
   ],
   "source": [
    "codes.info()"
   ]
  },
  {
   "cell_type": "markdown",
   "metadata": {},
   "source": [
    "*Matching formatting*"
   ]
  },
  {
   "cell_type": "code",
   "execution_count": 43,
   "metadata": {},
   "outputs": [],
   "source": [
    "codes.loc[codes['admin_name2'] == 'Nottinghamshire', 'admin_name2'] = 'Nottingham'\n",
    "codes.loc[codes['admin_name2'] == 'Greater Manchester', 'admin_name2'] = 'Manchester'\n",
    "codes.loc[codes['place_name'] == 'Bath', 'place_name'] = 'Bath and North East Somerset'\n",
    "\n",
    "codes.loc[codes['admin_name2'] == 'Greater London', 'admin_name2'] = 'England'\n",
    "codes.loc[codes['admin_name2'] == 'Greater London', 'place_name'] = 'London'\n",
    "\n",
    "mask = codes['place_name'] == 'Derby'\n",
    "codes.loc[mask, 'admin_name2'] = 'Derby'\n",
    "\n",
    "mask = codes['place_name'] == 'Aberdeen City'\n",
    "codes.loc[mask, 'admin_name2'] = 'Aberdeen City'\n",
    "codes.loc[codes['place_name'] == 'Aberdeen City', 'place_name'] = 'Aberdeen'\n",
    "\n",
    "codes.loc[codes['place_name'] == 'Edinburgh', 'admin_name2'] = 'Edinburgh, City of'\n",
    "\n",
    "codes.loc[codes['place_name'] == 'Bristol', 'admin_name2'] = 'Bristol, City of'\n",
    "codes.loc[codes['place_name'] == 'Bristol', 'place_name'] = 'Bristol'\n",
    "\n",
    "codes.loc[codes['place_name'] == 'Birmingham', 'admin_name2'] = 'Birmingham'\n",
    "df.loc[df['region'] == 'Birmingham', 'city'] = 'Birmingham'\n",
    "\n",
    "codes.loc[codes['admin_name2'] == 'County Antrim', 'admin_name2'] = 'Antrim'\n"
   ]
  },
  {
   "cell_type": "code",
   "execution_count": 44,
   "metadata": {},
   "outputs": [],
   "source": [
    "codes['admin_name2'] = codes['admin_name2'].fillna('')\n",
    "codes.loc[codes['admin_name2'].str.contains('yorkshire', case=False), 'admin_name2'] = 'York'"
   ]
  },
  {
   "cell_type": "code",
   "execution_count": 45,
   "metadata": {},
   "outputs": [],
   "source": [
    "codes.drop_duplicates(subset=['place_name', 'admin_name2'], inplace=True)"
   ]
  },
  {
   "cell_type": "markdown",
   "metadata": {},
   "source": [
    "*Merging*"
   ]
  },
  {
   "cell_type": "code",
   "execution_count": 46,
   "metadata": {},
   "outputs": [],
   "source": [
    "merged_df = pd.merge(df, codes, left_on=['city', 'region'], right_on=['place_name', 'admin_name2'], how='left')\n",
    "merged_df.drop_duplicates(subset=['uuid','place_name', 'admin_name2'], inplace=True)\n"
   ]
  },
  {
   "cell_type": "code",
   "execution_count": 47,
   "metadata": {},
   "outputs": [
    {
     "name": "stdout",
     "output_type": "stream",
     "text": [
      "<class 'pandas.core.frame.DataFrame'>\n",
      "Int64Index: 10825 entries, 0 to 10824\n",
      "Data columns (total 10 columns):\n",
      " #   Column         Non-Null Count  Dtype \n",
      "---  ------         --------------  ----- \n",
      " 0   uuid           10825 non-null  object\n",
      " 1   country_code   10825 non-null  object\n",
      " 2   state_code     0 non-null      object\n",
      " 3   region         10825 non-null  object\n",
      " 4   city           10825 non-null  object\n",
      " 5   address        8500 non-null   object\n",
      " 6   postal_code_x  8439 non-null   object\n",
      " 7   postal_code_y  7970 non-null   object\n",
      " 8   place_name     7970 non-null   object\n",
      " 9   admin_name2    7970 non-null   object\n",
      "dtypes: object(10)\n",
      "memory usage: 930.3+ KB\n"
     ]
    }
   ],
   "source": [
    "merged_df.info()"
   ]
  },
  {
   "cell_type": "markdown",
   "metadata": {},
   "source": [
    "**Filling NaNs with Existing Postal Codes**"
   ]
  },
  {
   "cell_type": "code",
   "execution_count": 48,
   "metadata": {},
   "outputs": [
    {
     "name": "stdout",
     "output_type": "stream",
     "text": [
      "<class 'pandas.core.frame.DataFrame'>\n",
      "Int64Index: 10825 entries, 0 to 10824\n",
      "Data columns (total 10 columns):\n",
      " #   Column         Non-Null Count  Dtype \n",
      "---  ------         --------------  ----- \n",
      " 0   uuid           10825 non-null  object\n",
      " 1   country_code   10825 non-null  object\n",
      " 2   state_code     0 non-null      object\n",
      " 3   region         10825 non-null  object\n",
      " 4   city           10825 non-null  object\n",
      " 5   address        8500 non-null   object\n",
      " 6   postal_code_x  8439 non-null   object\n",
      " 7   postal_code_y  10304 non-null  object\n",
      " 8   place_name     7970 non-null   object\n",
      " 9   admin_name2    7970 non-null   object\n",
      "dtypes: object(10)\n",
      "memory usage: 930.3+ KB\n"
     ]
    }
   ],
   "source": [
    "merged_df['postal_code_y'].fillna(merged_df['postal_code_x'], inplace=True)\n",
    "\n",
    "merged_df.info()"
   ]
  },
  {
   "cell_type": "markdown",
   "metadata": {},
   "source": [
    "*Across rows: df*"
   ]
  },
  {
   "cell_type": "code",
   "execution_count": 49,
   "metadata": {},
   "outputs": [],
   "source": [
    "merged_df = merged_df[merged_df.columns[:-2]]"
   ]
  },
  {
   "cell_type": "code",
   "execution_count": 50,
   "metadata": {},
   "outputs": [],
   "source": [
    "codes_df = df[df['postal_code'].notna()]\n",
    "\n",
    "codes_df = codes_df[['region', 'city', 'postal_code']]\n",
    "codes_df.drop_duplicates(subset=['region', 'city'], inplace=True)"
   ]
  },
  {
   "cell_type": "code",
   "execution_count": 51,
   "metadata": {},
   "outputs": [],
   "source": [
    "merged_df = pd.merge(merged_df, codes_df, left_on=['city', 'region'], right_on=['city', 'region'], how='left')\n",
    "merged_df['postal_code_y'].fillna(merged_df['postal_code'], inplace=True)"
   ]
  },
  {
   "cell_type": "code",
   "execution_count": 52,
   "metadata": {},
   "outputs": [
    {
     "name": "stdout",
     "output_type": "stream",
     "text": [
      "<class 'pandas.core.frame.DataFrame'>\n",
      "Int64Index: 10825 entries, 0 to 10824\n",
      "Data columns (total 9 columns):\n",
      " #   Column         Non-Null Count  Dtype \n",
      "---  ------         --------------  ----- \n",
      " 0   uuid           10825 non-null  object\n",
      " 1   country_code   10825 non-null  object\n",
      " 2   state_code     0 non-null      object\n",
      " 3   region         10825 non-null  object\n",
      " 4   city           10825 non-null  object\n",
      " 5   address        8500 non-null   object\n",
      " 6   postal_code_x  8439 non-null   object\n",
      " 7   postal_code_y  10738 non-null  object\n",
      " 8   postal_code    10627 non-null  object\n",
      "dtypes: object(9)\n",
      "memory usage: 845.7+ KB\n"
     ]
    }
   ],
   "source": [
    "merged_df.info()"
   ]
  },
  {
   "cell_type": "markdown",
   "metadata": {},
   "source": [
    "*Checking NaNs* "
   ]
  },
  {
   "cell_type": "code",
   "execution_count": 53,
   "metadata": {},
   "outputs": [
    {
     "data": {
      "text/plain": [
       "Nottinghamshire          4\n",
       "Hertford                 4\n",
       "Kirklees                 4\n",
       "Scottish Borders, The    3\n",
       "Essex                    3\n",
       "                        ..\n",
       "Wirral                   1\n",
       "Central Bedfordshire     1\n",
       "Dorset                   1\n",
       "Cumbria                  1\n",
       "Leeds                    1\n",
       "Name: region, Length: 61, dtype: int64"
      ]
     },
     "execution_count": 53,
     "metadata": {},
     "output_type": "execute_result"
    }
   ],
   "source": [
    "nan_df = merged_df[merged_df['postal_code_y'].isna()]\n",
    "nan_df['region'].value_counts()"
   ]
  },
  {
   "cell_type": "markdown",
   "metadata": {},
   "source": [
    "*Save to csv*"
   ]
  },
  {
   "cell_type": "code",
   "execution_count": 54,
   "metadata": {},
   "outputs": [],
   "source": [
    "merged_df = merged_df.rename(columns={'postal_code_x': 'pc_crunchbase', \n",
    "                                      'postal_code_y': 'pc_filled'})\n",
    "\n",
    "merged_df = merged_df[['uuid', 'pc_crunchbase', 'pc_filled']]"
   ]
  },
  {
   "cell_type": "code",
   "execution_count": 55,
   "metadata": {},
   "outputs": [],
   "source": [
    "merged_df.to_csv('processed/GBR_processed.csv')"
   ]
  }
 ],
 "metadata": {
  "kernelspec": {
   "display_name": "base",
   "language": "python",
   "name": "python3"
  },
  "language_info": {
   "codemirror_mode": {
    "name": "ipython",
    "version": 3
   },
   "file_extension": ".py",
   "mimetype": "text/x-python",
   "name": "python",
   "nbconvert_exporter": "python",
   "pygments_lexer": "ipython3",
   "version": "3.9.13"
  }
 },
 "nbformat": 4,
 "nbformat_minor": 2
}
