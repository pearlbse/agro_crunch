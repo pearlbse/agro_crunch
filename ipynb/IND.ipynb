{
 "cells": [
  {
   "cell_type": "markdown",
   "metadata": {},
   "source": [
    "### IND\n",
    "\n",
    "+ `admin_name1` = `region`\n",
    "+ `admin_name2` = `city`\n",
    "+ `admin_name3` = `city`\n",
    "\n"
   ]
  },
  {
   "cell_type": "code",
   "execution_count": 11,
   "metadata": {},
   "outputs": [],
   "source": [
    "import pandas as pd\n",
    "import warnings\n",
    "from unidecode import unidecode\n",
    "\n",
    "warnings.filterwarnings(\"ignore\")"
   ]
  },
  {
   "cell_type": "markdown",
   "metadata": {},
   "source": [
    "**Crunchbase Dataframe**"
   ]
  },
  {
   "cell_type": "code",
   "execution_count": 12,
   "metadata": {},
   "outputs": [
    {
     "name": "stdout",
     "output_type": "stream",
     "text": [
      "<class 'pandas.core.frame.DataFrame'>\n",
      "Int64Index: 8141 entries, 2 to 163640\n",
      "Data columns (total 7 columns):\n",
      " #   Column        Non-Null Count  Dtype \n",
      "---  ------        --------------  ----- \n",
      " 0   uuid          8141 non-null   object\n",
      " 1   country_code  8141 non-null   object\n",
      " 2   state_code    0 non-null      object\n",
      " 3   region        8141 non-null   object\n",
      " 4   city          8141 non-null   object\n",
      " 5   address       5416 non-null   object\n",
      " 6   postal_code   5492 non-null   object\n",
      "dtypes: object(7)\n",
      "memory usage: 508.8+ KB\n"
     ]
    }
   ],
   "source": [
    "df = pd.read_csv('input/foodtech.csv')\n",
    "df = df[df['country_code'] == 'IND']\n",
    "df = df[['uuid','country_code', 'state_code', 'region', 'city', 'address', 'postal_code']]\n",
    "df.info()"
   ]
  },
  {
   "cell_type": "markdown",
   "metadata": {},
   "source": [
    "*Reformatting*"
   ]
  },
  {
   "cell_type": "code",
   "execution_count": 13,
   "metadata": {},
   "outputs": [],
   "source": [
    "df['postal_code'] = df['postal_code'].str.replace(' ', '')"
   ]
  },
  {
   "cell_type": "markdown",
   "metadata": {},
   "source": [
    "**Postal Codes**"
   ]
  },
  {
   "cell_type": "code",
   "execution_count": 14,
   "metadata": {},
   "outputs": [],
   "source": [
    "codes = pd.read_json('input/geonames.json')\n",
    "codes = codes[codes['country_code'] == 'IN']"
   ]
  },
  {
   "cell_type": "markdown",
   "metadata": {},
   "source": [
    "`admin_name3`"
   ]
  },
  {
   "cell_type": "code",
   "execution_count": 15,
   "metadata": {},
   "outputs": [],
   "source": [
    "codes1 = codes.copy()\n",
    "codes1 = codes1[['postal_code','admin_name1', 'admin_name3']]\n",
    "codes1.drop_duplicates(subset=['postal_code','admin_name1', 'admin_name3'], inplace=True)\n"
   ]
  },
  {
   "cell_type": "code",
   "execution_count": 16,
   "metadata": {},
   "outputs": [],
   "source": [
    "merged_df = pd.merge(df, codes1, left_on=['city', 'region'], right_on=['admin_name3', 'admin_name1'], how='left')\n",
    "merged_df.drop_duplicates(subset=['uuid'], inplace=True)"
   ]
  },
  {
   "cell_type": "code",
   "execution_count": 17,
   "metadata": {},
   "outputs": [
    {
     "name": "stdout",
     "output_type": "stream",
     "text": [
      "<class 'pandas.core.frame.DataFrame'>\n",
      "Int64Index: 8141 entries, 0 to 171498\n",
      "Data columns (total 10 columns):\n",
      " #   Column         Non-Null Count  Dtype \n",
      "---  ------         --------------  ----- \n",
      " 0   uuid           8141 non-null   object\n",
      " 1   country_code   8141 non-null   object\n",
      " 2   state_code     0 non-null      object\n",
      " 3   region         8141 non-null   object\n",
      " 4   city           8141 non-null   object\n",
      " 5   address        5416 non-null   object\n",
      " 6   postal_code_x  5492 non-null   object\n",
      " 7   postal_code_y  6855 non-null   object\n",
      " 8   admin_name1    6855 non-null   object\n",
      " 9   admin_name3    6855 non-null   object\n",
      "dtypes: object(10)\n",
      "memory usage: 699.6+ KB\n"
     ]
    }
   ],
   "source": [
    "merged_df.info()"
   ]
  },
  {
   "cell_type": "markdown",
   "metadata": {},
   "source": [
    "`admin_name2`"
   ]
  },
  {
   "cell_type": "code",
   "execution_count": 18,
   "metadata": {},
   "outputs": [],
   "source": [
    "codes2 = codes.copy()\n",
    "codes2 = codes2[['postal_code','admin_name1', 'admin_name2']]\n",
    "\n",
    "codes2['admin_name2'] = codes2['admin_name2'].str.replace('Bangalore Rural', 'Bangalore')\n",
    "codes2['admin_name2'] = codes2['admin_name2'].str.replace('Ananthapur', 'Anantapur')\n",
    "codes2['admin_name2'] = codes2['admin_name2'].str.replace('Darjiling', 'Darjeeling')\n",
    "\n",
    "codes2.loc[codes2['admin_name2'] == 'Hyderabad', 'admin_name1'] = codes2['admin_name1'].str.replace('Telangana', 'Andhra Pradesh')\n",
    "codes2.loc[(codes2['admin_name1'] == 'Delhi') & (codes2['admin_name2'].str.contains('Delhi') & ~codes2['admin_name2'].str.contains('New Delhi')), 'admin_name2'] = 'Delhi'\n",
    "\n",
    "codes2.drop_duplicates(subset=['admin_name1', 'admin_name2'], inplace=True)\n"
   ]
  },
  {
   "cell_type": "code",
   "execution_count": 19,
   "metadata": {},
   "outputs": [
    {
     "name": "stdout",
     "output_type": "stream",
     "text": [
      "<class 'pandas.core.frame.DataFrame'>\n",
      "Int64Index: 8141 entries, 0 to 8140\n",
      "Data columns (total 13 columns):\n",
      " #   Column         Non-Null Count  Dtype \n",
      "---  ------         --------------  ----- \n",
      " 0   uuid           8141 non-null   object\n",
      " 1   country_code   8141 non-null   object\n",
      " 2   state_code     0 non-null      object\n",
      " 3   region         8141 non-null   object\n",
      " 4   city           8141 non-null   object\n",
      " 5   address        5416 non-null   object\n",
      " 6   postal_code_x  5492 non-null   object\n",
      " 7   postal_code_y  6855 non-null   object\n",
      " 8   admin_name1_x  6855 non-null   object\n",
      " 9   admin_name3    6855 non-null   object\n",
      " 10  postal_code    6483 non-null   object\n",
      " 11  admin_name1_y  6483 non-null   object\n",
      " 12  admin_name2    6483 non-null   object\n",
      "dtypes: object(13)\n",
      "memory usage: 890.4+ KB\n"
     ]
    }
   ],
   "source": [
    "merged_df = pd.merge(merged_df, codes2, left_on=['city', 'region'], right_on=['admin_name2', 'admin_name1'], how='left')\n",
    "merged_df.info()\n"
   ]
  },
  {
   "cell_type": "markdown",
   "metadata": {},
   "source": [
    "**Filling NaNs with Existing Postal Codes**"
   ]
  },
  {
   "cell_type": "code",
   "execution_count": 20,
   "metadata": {},
   "outputs": [
    {
     "name": "stdout",
     "output_type": "stream",
     "text": [
      "<class 'pandas.core.frame.DataFrame'>\n",
      "Int64Index: 8141 entries, 0 to 8140\n",
      "Data columns (total 13 columns):\n",
      " #   Column         Non-Null Count  Dtype \n",
      "---  ------         --------------  ----- \n",
      " 0   uuid           8141 non-null   object\n",
      " 1   country_code   8141 non-null   object\n",
      " 2   state_code     0 non-null      object\n",
      " 3   region         8141 non-null   object\n",
      " 4   city           8141 non-null   object\n",
      " 5   address        5416 non-null   object\n",
      " 6   postal_code_x  5492 non-null   object\n",
      " 7   postal_code_y  7931 non-null   object\n",
      " 8   admin_name1_x  6855 non-null   object\n",
      " 9   admin_name3    6855 non-null   object\n",
      " 10  postal_code    6483 non-null   object\n",
      " 11  admin_name1_y  6483 non-null   object\n",
      " 12  admin_name2    6483 non-null   object\n",
      "dtypes: object(13)\n",
      "memory usage: 890.4+ KB\n"
     ]
    }
   ],
   "source": [
    "merged_df['postal_code_y'].fillna(merged_df['postal_code'], inplace=True)\n",
    "merged_df['postal_code_y'].fillna(merged_df['postal_code_x'], inplace=True)\n",
    "\n",
    "merged_df.info()"
   ]
  },
  {
   "cell_type": "markdown",
   "metadata": {},
   "source": [
    "*Across rows: df*"
   ]
  },
  {
   "cell_type": "code",
   "execution_count": 21,
   "metadata": {},
   "outputs": [],
   "source": [
    "merged_df = merged_df[merged_df.columns[:-5]]"
   ]
  },
  {
   "cell_type": "code",
   "execution_count": 22,
   "metadata": {},
   "outputs": [],
   "source": [
    "codes_df = df[df['postal_code'].notna()]\n",
    "\n",
    "codes_df = codes_df[['region', 'city', 'postal_code']]\n",
    "codes_df.drop_duplicates(subset=['region', 'city'], inplace=True)"
   ]
  },
  {
   "cell_type": "code",
   "execution_count": 23,
   "metadata": {},
   "outputs": [],
   "source": [
    "merged_df = pd.merge(merged_df, codes_df, left_on=['city', 'region'], right_on=['city', 'region'], how='left')\n",
    "merged_df['postal_code_y'].fillna(merged_df['postal_code'], inplace=True)"
   ]
  },
  {
   "cell_type": "code",
   "execution_count": 24,
   "metadata": {},
   "outputs": [
    {
     "name": "stdout",
     "output_type": "stream",
     "text": [
      "<class 'pandas.core.frame.DataFrame'>\n",
      "Int64Index: 8141 entries, 0 to 8140\n",
      "Data columns (total 9 columns):\n",
      " #   Column         Non-Null Count  Dtype \n",
      "---  ------         --------------  ----- \n",
      " 0   uuid           8141 non-null   object\n",
      " 1   country_code   8141 non-null   object\n",
      " 2   state_code     0 non-null      object\n",
      " 3   region         8141 non-null   object\n",
      " 4   city           8141 non-null   object\n",
      " 5   address        5416 non-null   object\n",
      " 6   postal_code_x  5492 non-null   object\n",
      " 7   postal_code_y  8088 non-null   object\n",
      " 8   postal_code    8020 non-null   object\n",
      "dtypes: object(9)\n",
      "memory usage: 636.0+ KB\n"
     ]
    }
   ],
   "source": [
    "merged_df.info()"
   ]
  },
  {
   "cell_type": "markdown",
   "metadata": {},
   "source": [
    "*Checking NaNs*"
   ]
  },
  {
   "cell_type": "code",
   "execution_count": 25,
   "metadata": {},
   "outputs": [
    {
     "data": {
      "text/plain": [
       "West Bengal                    7\n",
       "Tamil Nadu                     5\n",
       "Maharashtra                    5\n",
       "Uttar Pradesh                  4\n",
       "Kerala                         4\n",
       "Goa                            4\n",
       "Orissa                         3\n",
       "Chhattisgarh                   3\n",
       "Jammu and Kashmir              3\n",
       "Delhi                          2\n",
       "Manipur                        2\n",
       "Daman and Diu                  2\n",
       "Andaman and Nicobar Islands    1\n",
       "Madhya Pradesh                 1\n",
       "Assam                          1\n",
       "Rajasthan                      1\n",
       "Andhra Pradesh                 1\n",
       "Karnataka                      1\n",
       "Arunachal Pradesh              1\n",
       "Bihar                          1\n",
       "Haryana                        1\n",
       "Name: region, dtype: int64"
      ]
     },
     "execution_count": 25,
     "metadata": {},
     "output_type": "execute_result"
    }
   ],
   "source": [
    "nan_df = merged_df[merged_df['postal_code_y'].isna()]\n",
    "nan_df['region'].value_counts()"
   ]
  },
  {
   "cell_type": "markdown",
   "metadata": {},
   "source": [
    "*Save to csv*"
   ]
  },
  {
   "cell_type": "code",
   "execution_count": 26,
   "metadata": {},
   "outputs": [],
   "source": [
    "merged_df = merged_df.rename(columns={'postal_code_x': 'pc_crunchbase', \n",
    "                                      'postal_code_y': 'pc_filled'})\n",
    "\n",
    "merged_df = merged_df[['uuid', 'pc_crunchbase', 'pc_filled']]\n"
   ]
  },
  {
   "cell_type": "code",
   "execution_count": 27,
   "metadata": {},
   "outputs": [],
   "source": [
    "merged_df.to_csv('processed/IND_processed.csv')"
   ]
  }
 ],
 "metadata": {
  "kernelspec": {
   "display_name": "base",
   "language": "python",
   "name": "python3"
  },
  "language_info": {
   "codemirror_mode": {
    "name": "ipython",
    "version": 3
   },
   "file_extension": ".py",
   "mimetype": "text/x-python",
   "name": "python",
   "nbconvert_exporter": "python",
   "pygments_lexer": "ipython3",
   "version": "3.9.13"
  }
 },
 "nbformat": 4,
 "nbformat_minor": 2
}
