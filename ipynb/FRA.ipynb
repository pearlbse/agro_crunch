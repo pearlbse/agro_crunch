{
 "cells": [
  {
   "cell_type": "markdown",
   "metadata": {},
   "source": [
    "### FRA\n",
    "\n",
    "+ `admin_name1` = `region`\n",
    "+ `admin_name2` = `city`\n",
    "+ `place_name` = `city`"
   ]
  },
  {
   "cell_type": "code",
   "execution_count": 392,
   "metadata": {},
   "outputs": [],
   "source": [
    "import pandas as pd\n",
    "import warnings\n",
    "from unidecode import unidecode\n",
    "\n",
    "warnings.filterwarnings(\"ignore\")"
   ]
  },
  {
   "cell_type": "markdown",
   "metadata": {},
   "source": [
    "**Crunchbase Dataframe**"
   ]
  },
  {
   "cell_type": "code",
   "execution_count": 393,
   "metadata": {},
   "outputs": [
    {
     "name": "stdout",
     "output_type": "stream",
     "text": [
      "<class 'pandas.core.frame.DataFrame'>\n",
      "Int64Index: 5532 entries, 218 to 163804\n",
      "Data columns (total 7 columns):\n",
      " #   Column        Non-Null Count  Dtype \n",
      "---  ------        --------------  ----- \n",
      " 0   uuid          5532 non-null   object\n",
      " 1   country_code  5532 non-null   object\n",
      " 2   state_code    0 non-null      object\n",
      " 3   region        5532 non-null   object\n",
      " 4   city          5532 non-null   object\n",
      " 5   address       3575 non-null   object\n",
      " 6   postal_code   3589 non-null   object\n",
      "dtypes: object(7)\n",
      "memory usage: 345.8+ KB\n"
     ]
    }
   ],
   "source": [
    "df = pd.read_csv('input/foodtech.csv')\n",
    "df = df[df['country_code'] == 'FRA']\n",
    "df = df[['uuid','country_code', 'state_code', 'region', 'city', 'address', 'postal_code']]\n",
    "df.info()"
   ]
  },
  {
   "cell_type": "markdown",
   "metadata": {},
   "source": [
    "*Reformatting*"
   ]
  },
  {
   "cell_type": "code",
   "execution_count": 394,
   "metadata": {},
   "outputs": [],
   "source": [
    "df['region'] = df['region'].str.replace(r'\\bPoitou-Charentes\\b', 'Aquitaine')\n"
   ]
  },
  {
   "cell_type": "code",
   "execution_count": 395,
   "metadata": {},
   "outputs": [],
   "source": [
    "df['city'] = df['city'].apply(unidecode)\n",
    "df['region'] = df['region'].apply(unidecode)\n",
    "\n",
    "df['city'] = df['city'].str.lower()\n",
    "df['region'] = df['region'].str.lower()\n",
    "\n"
   ]
  },
  {
   "cell_type": "markdown",
   "metadata": {},
   "source": [
    "**Postal Codes**"
   ]
  },
  {
   "cell_type": "code",
   "execution_count": 396,
   "metadata": {},
   "outputs": [],
   "source": [
    "codes = pd.read_json('input/geonames.json')\n",
    "codes = codes[codes['country_code'] == 'FR']"
   ]
  },
  {
   "cell_type": "code",
   "execution_count": 397,
   "metadata": {},
   "outputs": [],
   "source": [
    "codes['admin_name1'] = codes['admin_name1'].apply(lambda x: unidecode(x) if x is not None else None)\n",
    "codes['admin_name2'] = codes['admin_name2'].apply(lambda x: unidecode(x) if x is not None else None)\n",
    "codes['place_name'] = codes['place_name'].apply(lambda x: unidecode(x) if x is not None else None)"
   ]
  },
  {
   "cell_type": "code",
   "execution_count": 398,
   "metadata": {},
   "outputs": [],
   "source": [
    "codes.loc[(codes['admin_name1'] == 'Grand Est') & (codes['admin_name2'] == 'Bas-Rhin'), 'admin_name1'] = 'Alsace'\n",
    "codes.loc[codes['admin_name2'] == 'Haut-Rhin', 'admin_name1'] = 'Alsace'\n",
    "\n",
    "codes.loc[codes['admin_name2'] == 'Doubs', 'admin_name1'] = 'Franche-Comte'\n",
    "codes.loc[codes['admin_name2'] == 'Oise', 'admin_name1'] = 'Picardie'\n",
    "codes.loc[codes['admin_name2'] == 'Haute-Loire', 'admin_name1'] = 'Auvergne'\n",
    "codes.loc[codes['admin_name2'] == 'Aude', 'admin_name1'] = 'Languedoc-Roussillon'\n",
    "codes.loc[codes['admin_name2'] == 'Herault', 'admin_name1'] = 'Languedoc-Roussillon'\n",
    "\n",
    "codes['admin_name1'] = codes['admin_name1'].str.replace(r'\\bNouvelle-Aquitaine\\b', 'Aquitaine')\n",
    "codes['admin_name1'] = codes['admin_name1'].str.replace(r'\\bAuvergne-Rhone-Alpes\\b', 'Rhone-Alpes')\n",
    "codes['admin_name1'] = codes['admin_name1'].str.replace(r'\\bOccitanie\\b', 'Midi-Pyrenees')\n",
    "codes['admin_name1'] = codes['admin_name1'].str.replace(r'\\bCentre-Val de Loire\\b', 'Centre')\n",
    "codes['admin_name1'] = codes['admin_name1'].str.replace(r'\\bNormandie\\b', 'Basse-Normandie')\n",
    "codes['admin_name1'] = codes['admin_name1'].str.replace(r'\\bGrand Est\\b', 'Champagne-Ardenne')\n",
    "codes['admin_name1'] = codes['admin_name1'].str.replace(r'\\bHauts-de-France\\b', 'nord-pas-de-calais')\n",
    "codes['admin_name1'] = codes['admin_name1'].str.replace(r'\\bBourgogne-Franche-Comte\\b', 'Bourgogne')\n",
    "\n"
   ]
  },
  {
   "cell_type": "markdown",
   "metadata": {},
   "source": [
    "`admin_name2`"
   ]
  },
  {
   "cell_type": "code",
   "execution_count": 399,
   "metadata": {},
   "outputs": [],
   "source": [
    "codes1 = codes.copy()\n",
    "codes1 = codes1[['postal_code','admin_name1', 'admin_name2']]"
   ]
  },
  {
   "cell_type": "code",
   "execution_count": 400,
   "metadata": {},
   "outputs": [],
   "source": [
    "codes1['admin_name1'] = codes1['admin_name1'].str.lower()\n",
    "codes1['admin_name2'] = codes1['admin_name2'].str.lower()\n",
    "\n",
    "codes1.drop_duplicates(subset=['admin_name1', 'admin_name2'], inplace=True)"
   ]
  },
  {
   "cell_type": "code",
   "execution_count": 401,
   "metadata": {},
   "outputs": [],
   "source": [
    "merged_df = pd.merge(df, codes1, left_on=['city', 'region'], right_on=['admin_name2', 'admin_name1'], how='left')\n",
    "merged_df.drop_duplicates(subset=['uuid'], inplace=True)"
   ]
  },
  {
   "cell_type": "code",
   "execution_count": 402,
   "metadata": {},
   "outputs": [
    {
     "name": "stdout",
     "output_type": "stream",
     "text": [
      "<class 'pandas.core.frame.DataFrame'>\n",
      "Int64Index: 5532 entries, 0 to 5531\n",
      "Data columns (total 10 columns):\n",
      " #   Column         Non-Null Count  Dtype \n",
      "---  ------         --------------  ----- \n",
      " 0   uuid           5532 non-null   object\n",
      " 1   country_code   5532 non-null   object\n",
      " 2   state_code     0 non-null      object\n",
      " 3   region         5532 non-null   object\n",
      " 4   city           5532 non-null   object\n",
      " 5   address        3575 non-null   object\n",
      " 6   postal_code_x  3589 non-null   object\n",
      " 7   postal_code_y  820 non-null    object\n",
      " 8   admin_name1    820 non-null    object\n",
      " 9   admin_name2    820 non-null    object\n",
      "dtypes: object(10)\n",
      "memory usage: 475.4+ KB\n"
     ]
    }
   ],
   "source": [
    "merged_df.info()"
   ]
  },
  {
   "cell_type": "markdown",
   "metadata": {},
   "source": [
    "`place_name`"
   ]
  },
  {
   "cell_type": "code",
   "execution_count": 403,
   "metadata": {},
   "outputs": [],
   "source": [
    "codes2 = codes.copy()\n",
    "codes2 = codes2[['postal_code','admin_name1', 'place_name']]\n",
    "\n",
    "codes2['admin_name1'] = codes2['admin_name1'].str.lower()\n",
    "codes2['place_name'] = codes2['place_name'].str.lower()\n",
    "\n",
    "codes2.drop_duplicates(subset=['admin_name1', 'place_name'], inplace=True)\n"
   ]
  },
  {
   "cell_type": "code",
   "execution_count": 404,
   "metadata": {},
   "outputs": [
    {
     "name": "stdout",
     "output_type": "stream",
     "text": [
      "<class 'pandas.core.frame.DataFrame'>\n",
      "Int64Index: 5532 entries, 0 to 5531\n",
      "Data columns (total 13 columns):\n",
      " #   Column         Non-Null Count  Dtype \n",
      "---  ------         --------------  ----- \n",
      " 0   uuid           5532 non-null   object\n",
      " 1   country_code   5532 non-null   object\n",
      " 2   state_code     0 non-null      object\n",
      " 3   region         5532 non-null   object\n",
      " 4   city           5532 non-null   object\n",
      " 5   address        3575 non-null   object\n",
      " 6   postal_code_x  3589 non-null   object\n",
      " 7   postal_code_y  820 non-null    object\n",
      " 8   admin_name1_x  820 non-null    object\n",
      " 9   admin_name2    820 non-null    object\n",
      " 10  postal_code    4742 non-null   object\n",
      " 11  admin_name1_y  4742 non-null   object\n",
      " 12  place_name     4742 non-null   object\n",
      "dtypes: object(13)\n",
      "memory usage: 605.1+ KB\n"
     ]
    }
   ],
   "source": [
    "merged_df = pd.merge(merged_df, codes2, left_on=['city', 'region'], right_on=['place_name', 'admin_name1'], how='left')\n",
    "merged_df.info()"
   ]
  },
  {
   "cell_type": "markdown",
   "metadata": {},
   "source": [
    "**Filling NaNs with Existing Postal Codes**"
   ]
  },
  {
   "cell_type": "code",
   "execution_count": 405,
   "metadata": {},
   "outputs": [
    {
     "name": "stdout",
     "output_type": "stream",
     "text": [
      "<class 'pandas.core.frame.DataFrame'>\n",
      "Int64Index: 5532 entries, 0 to 5531\n",
      "Data columns (total 13 columns):\n",
      " #   Column         Non-Null Count  Dtype \n",
      "---  ------         --------------  ----- \n",
      " 0   uuid           5532 non-null   object\n",
      " 1   country_code   5532 non-null   object\n",
      " 2   state_code     0 non-null      object\n",
      " 3   region         5532 non-null   object\n",
      " 4   city           5532 non-null   object\n",
      " 5   address        3575 non-null   object\n",
      " 6   postal_code_x  3589 non-null   object\n",
      " 7   postal_code_y  5302 non-null   object\n",
      " 8   admin_name1_x  820 non-null    object\n",
      " 9   admin_name2    820 non-null    object\n",
      " 10  postal_code    4742 non-null   object\n",
      " 11  admin_name1_y  4742 non-null   object\n",
      " 12  place_name     4742 non-null   object\n",
      "dtypes: object(13)\n",
      "memory usage: 605.1+ KB\n"
     ]
    }
   ],
   "source": [
    "merged_df['postal_code_y'].fillna(merged_df['postal_code'], inplace=True)\n",
    "merged_df['postal_code_y'].fillna(merged_df['postal_code_x'], inplace=True)\n",
    "\n",
    "merged_df.info()"
   ]
  },
  {
   "cell_type": "markdown",
   "metadata": {},
   "source": [
    "*Across rows: df*"
   ]
  },
  {
   "cell_type": "code",
   "execution_count": 406,
   "metadata": {},
   "outputs": [],
   "source": [
    "merged_df = merged_df[merged_df.columns[:-5]]"
   ]
  },
  {
   "cell_type": "code",
   "execution_count": 407,
   "metadata": {},
   "outputs": [],
   "source": [
    "codes_df = df[df['postal_code'].notna()]\n",
    "\n",
    "codes_df = codes_df[['region', 'city', 'postal_code']]\n",
    "codes_df.drop_duplicates(subset=['region', 'city'], inplace=True)"
   ]
  },
  {
   "cell_type": "code",
   "execution_count": 408,
   "metadata": {},
   "outputs": [],
   "source": [
    "merged_df = pd.merge(merged_df, codes_df, left_on=['city', 'region'], right_on=['city', 'region'], how='left')\n",
    "merged_df['postal_code_y'].fillna(merged_df['postal_code'], inplace=True)"
   ]
  },
  {
   "cell_type": "code",
   "execution_count": 409,
   "metadata": {},
   "outputs": [
    {
     "name": "stdout",
     "output_type": "stream",
     "text": [
      "<class 'pandas.core.frame.DataFrame'>\n",
      "Int64Index: 5532 entries, 0 to 5531\n",
      "Data columns (total 9 columns):\n",
      " #   Column         Non-Null Count  Dtype \n",
      "---  ------         --------------  ----- \n",
      " 0   uuid           5532 non-null   object\n",
      " 1   country_code   5532 non-null   object\n",
      " 2   state_code     0 non-null      object\n",
      " 3   region         5532 non-null   object\n",
      " 4   city           5532 non-null   object\n",
      " 5   address        3575 non-null   object\n",
      " 6   postal_code_x  3589 non-null   object\n",
      " 7   postal_code_y  5398 non-null   object\n",
      " 8   postal_code    4815 non-null   object\n",
      "dtypes: object(9)\n",
      "memory usage: 432.2+ KB\n"
     ]
    }
   ],
   "source": [
    "merged_df.info()"
   ]
  },
  {
   "cell_type": "markdown",
   "metadata": {},
   "source": [
    "*Checking NaNs*"
   ]
  },
  {
   "cell_type": "code",
   "execution_count": 410,
   "metadata": {},
   "outputs": [
    {
     "data": {
      "text/plain": [
       "languedoc-roussillon          14\n",
       "auvergne                      13\n",
       "lorraine                      13\n",
       "picardie                      12\n",
       "limousin                      11\n",
       "aquitaine                     10\n",
       "rhone-alpes                    9\n",
       "franche-comte                  7\n",
       "centre                         7\n",
       "haute-normandie                7\n",
       "bourgogne                      5\n",
       "pays de la loire               5\n",
       "bretagne                       4\n",
       "midi-pyrenees                  4\n",
       "provence-alpes-cote d'azur     3\n",
       "ile-de-france                  3\n",
       "champagne-ardenne              2\n",
       "nord-pas-de-calais             2\n",
       "basse-normandie                1\n",
       "alsace                         1\n",
       "corse                          1\n",
       "Name: region, dtype: int64"
      ]
     },
     "execution_count": 410,
     "metadata": {},
     "output_type": "execute_result"
    }
   ],
   "source": [
    "nan_df = merged_df[merged_df['postal_code_y'].isna()]\n",
    "nan_df['region'].value_counts()"
   ]
  },
  {
   "cell_type": "markdown",
   "metadata": {},
   "source": [
    "*Save to csv*"
   ]
  },
  {
   "cell_type": "code",
   "execution_count": 411,
   "metadata": {},
   "outputs": [],
   "source": [
    "merged_df = merged_df.rename(columns={'postal_code_x': 'pc_crunchbase', \n",
    "                                      'postal_code_y': 'pc_filled'})\n",
    "\n",
    "merged_df = merged_df[['uuid', 'pc_crunchbase', 'pc_filled']]\n"
   ]
  },
  {
   "cell_type": "code",
   "execution_count": 412,
   "metadata": {},
   "outputs": [],
   "source": [
    "merged_df.to_csv('processed/FRA_processed.csv')"
   ]
  }
 ],
 "metadata": {
  "kernelspec": {
   "display_name": "base",
   "language": "python",
   "name": "python3"
  },
  "language_info": {
   "codemirror_mode": {
    "name": "ipython",
    "version": 3
   },
   "file_extension": ".py",
   "mimetype": "text/x-python",
   "name": "python",
   "nbconvert_exporter": "python",
   "pygments_lexer": "ipython3",
   "version": "3.9.13"
  }
 },
 "nbformat": 4,
 "nbformat_minor": 2
}
