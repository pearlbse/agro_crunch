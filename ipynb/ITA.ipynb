{
 "cells": [
  {
   "cell_type": "markdown",
   "metadata": {},
   "source": [
    "### ITA\n",
    "\n",
    "+ `admin_name1` = `region`\n",
    "+ `place_name` = `city`"
   ]
  },
  {
   "cell_type": "code",
   "execution_count": 1,
   "metadata": {},
   "outputs": [],
   "source": [
    "import pandas as pd\n",
    "import warnings\n",
    "\n",
    "warnings.filterwarnings(\"ignore\")"
   ]
  },
  {
   "cell_type": "markdown",
   "metadata": {},
   "source": [
    "**Crunchbase Dataframe**"
   ]
  },
  {
   "cell_type": "code",
   "execution_count": 2,
   "metadata": {},
   "outputs": [
    {
     "name": "stdout",
     "output_type": "stream",
     "text": [
      "<class 'pandas.core.frame.DataFrame'>\n",
      "Int64Index: 6679 entries, 81 to 163821\n",
      "Data columns (total 7 columns):\n",
      " #   Column        Non-Null Count  Dtype \n",
      "---  ------        --------------  ----- \n",
      " 0   uuid          6679 non-null   object\n",
      " 1   country_code  6679 non-null   object\n",
      " 2   state_code    0 non-null      object\n",
      " 3   region        6679 non-null   object\n",
      " 4   city          6679 non-null   object\n",
      " 5   address       5680 non-null   object\n",
      " 6   postal_code   5529 non-null   object\n",
      "dtypes: object(7)\n",
      "memory usage: 417.4+ KB\n"
     ]
    }
   ],
   "source": [
    "df = pd.read_csv('input/foodtech.csv')\n",
    "df = df[df['country_code'] == 'ITA']\n",
    "df = df[['uuid','country_code', 'state_code', 'region', 'city', 'address', 'postal_code']]\n",
    "df.info()"
   ]
  },
  {
   "cell_type": "markdown",
   "metadata": {},
   "source": [
    "*Reformatting*"
   ]
  },
  {
   "cell_type": "code",
   "execution_count": 3,
   "metadata": {},
   "outputs": [],
   "source": [
    "df['city'] = df['city'].str.replace(r'\\bMilan\\b', 'Milano')\n",
    "df['city'] = df['city'].str.replace(r'\\bRome\\b', 'Roma')\n",
    "df['city'] = df['city'].str.replace(r'\\bPadua\\b', 'Padova')\n",
    "df['city'] = df['city'].str.replace(r'\\bVenice\\b', 'Venezia')\n",
    "df['city'] = df['city'].str.replace(r'\\bTurin\\b', 'Torino')\n",
    "df['city'] = df['city'].str.replace(r'\\bReggio Nell Emilia\\b', 'Reggio Emilia')\n",
    "df['city'] = df['city'].str.replace(r\"\\bSant'ilario D'enza\\b\", \"Sant'Ilario D'Enza\")\n",
    "df['city'] = df['city'].str.replace(r\"\\bSant'ambrogio Di Valpolicella\\b\", \"Sant'Ambrogio Di Valpolicella\")\n"
   ]
  },
  {
   "cell_type": "code",
   "execution_count": 4,
   "metadata": {},
   "outputs": [],
   "source": [
    "df['city'] = df['city'].str.lower()\n",
    "df['region'] = df['region'].str.lower()"
   ]
  },
  {
   "cell_type": "markdown",
   "metadata": {},
   "source": [
    "**Postal Codes**"
   ]
  },
  {
   "cell_type": "code",
   "execution_count": 5,
   "metadata": {},
   "outputs": [],
   "source": [
    "codes = pd.read_json('input/geonames.json')\n",
    "codes = codes[codes['country_code'] == 'IT']"
   ]
  },
  {
   "cell_type": "markdown",
   "metadata": {},
   "source": [
    "`place_name`"
   ]
  },
  {
   "cell_type": "code",
   "execution_count": 6,
   "metadata": {},
   "outputs": [],
   "source": [
    "codes1 = codes.copy()\n",
    "codes1 = codes1[['postal_code','admin_name1', 'place_name']]\n",
    "\n",
    "codes1['admin_name1'] = codes1['admin_name1'].str.lower()\n",
    "codes1['place_name'] = codes1['place_name'].str.lower()\n",
    "\n",
    "codes1.drop_duplicates(subset=['admin_name1', 'place_name'], inplace=True)\n"
   ]
  },
  {
   "cell_type": "code",
   "execution_count": 7,
   "metadata": {},
   "outputs": [
    {
     "name": "stdout",
     "output_type": "stream",
     "text": [
      "<class 'pandas.core.frame.DataFrame'>\n",
      "Int64Index: 6679 entries, 0 to 6678\n",
      "Data columns (total 10 columns):\n",
      " #   Column         Non-Null Count  Dtype \n",
      "---  ------         --------------  ----- \n",
      " 0   uuid           6679 non-null   object\n",
      " 1   country_code   6679 non-null   object\n",
      " 2   state_code     0 non-null      object\n",
      " 3   region         6679 non-null   object\n",
      " 4   city           6679 non-null   object\n",
      " 5   address        5680 non-null   object\n",
      " 6   postal_code_x  5529 non-null   object\n",
      " 7   postal_code_y  6015 non-null   object\n",
      " 8   admin_name1    6015 non-null   object\n",
      " 9   place_name     6015 non-null   object\n",
      "dtypes: object(10)\n",
      "memory usage: 574.0+ KB\n"
     ]
    }
   ],
   "source": [
    "merged_df = pd.merge(df, codes1, left_on=['city', 'region'], right_on=['place_name', 'admin_name1'], how='left')\n",
    "merged_df.info()"
   ]
  },
  {
   "cell_type": "markdown",
   "metadata": {},
   "source": [
    "**Filling NaNs with Existing Postal Codes**"
   ]
  },
  {
   "cell_type": "code",
   "execution_count": 8,
   "metadata": {},
   "outputs": [
    {
     "name": "stdout",
     "output_type": "stream",
     "text": [
      "<class 'pandas.core.frame.DataFrame'>\n",
      "Int64Index: 6679 entries, 0 to 6678\n",
      "Data columns (total 10 columns):\n",
      " #   Column         Non-Null Count  Dtype \n",
      "---  ------         --------------  ----- \n",
      " 0   uuid           6679 non-null   object\n",
      " 1   country_code   6679 non-null   object\n",
      " 2   state_code     0 non-null      object\n",
      " 3   region         6679 non-null   object\n",
      " 4   city           6679 non-null   object\n",
      " 5   address        5680 non-null   object\n",
      " 6   postal_code_x  5529 non-null   object\n",
      " 7   postal_code_y  6569 non-null   object\n",
      " 8   admin_name1    6015 non-null   object\n",
      " 9   place_name     6015 non-null   object\n",
      "dtypes: object(10)\n",
      "memory usage: 574.0+ KB\n"
     ]
    }
   ],
   "source": [
    "merged_df['postal_code_y'].fillna(merged_df['postal_code_x'], inplace=True)\n",
    "merged_df.info()\n"
   ]
  },
  {
   "cell_type": "markdown",
   "metadata": {},
   "source": [
    "*Across rows: df*"
   ]
  },
  {
   "cell_type": "code",
   "execution_count": 9,
   "metadata": {},
   "outputs": [],
   "source": [
    "merged_df = merged_df[merged_df.columns[:-2]]\n",
    "\n",
    "codes_df = df[df['postal_code'].notna()]\n",
    "\n",
    "codes_df = codes_df[['region', 'city', 'postal_code']]\n",
    "codes_df.drop_duplicates(subset=['region', 'city'], inplace=True)"
   ]
  },
  {
   "cell_type": "code",
   "execution_count": 10,
   "metadata": {},
   "outputs": [],
   "source": [
    "merged_df = pd.merge(merged_df, codes_df, left_on=['city', 'region'], right_on=['city', 'region'], how='left')\n",
    "merged_df['postal_code_y'].fillna(merged_df['postal_code'], inplace=True)"
   ]
  },
  {
   "cell_type": "code",
   "execution_count": 11,
   "metadata": {},
   "outputs": [
    {
     "name": "stdout",
     "output_type": "stream",
     "text": [
      "<class 'pandas.core.frame.DataFrame'>\n",
      "Int64Index: 6679 entries, 0 to 6678\n",
      "Data columns (total 9 columns):\n",
      " #   Column         Non-Null Count  Dtype \n",
      "---  ------         --------------  ----- \n",
      " 0   uuid           6679 non-null   object\n",
      " 1   country_code   6679 non-null   object\n",
      " 2   state_code     0 non-null      object\n",
      " 3   region         6679 non-null   object\n",
      " 4   city           6679 non-null   object\n",
      " 5   address        5680 non-null   object\n",
      " 6   postal_code_x  5529 non-null   object\n",
      " 7   postal_code_y  6642 non-null   object\n",
      " 8   postal_code    6465 non-null   object\n",
      "dtypes: object(9)\n",
      "memory usage: 521.8+ KB\n"
     ]
    }
   ],
   "source": [
    "merged_df.info()"
   ]
  },
  {
   "cell_type": "markdown",
   "metadata": {},
   "source": [
    "*Checking NaNs*"
   ]
  },
  {
   "cell_type": "code",
   "execution_count": 12,
   "metadata": {},
   "outputs": [
    {
     "data": {
      "text/plain": [
       "emilia-romagna           6\n",
       "friuli-venezia giulia    4\n",
       "veneto                   4\n",
       "toscana                  3\n",
       "lombardia                3\n",
       "trentino-alto adige      3\n",
       "umbria                   2\n",
       "sicilia                  2\n",
       "piemonte                 2\n",
       "campania                 2\n",
       "molise                   2\n",
       "liguria                  1\n",
       "lazio                    1\n",
       "abruzzi                  1\n",
       "calabria                 1\n",
       "Name: region, dtype: int64"
      ]
     },
     "execution_count": 12,
     "metadata": {},
     "output_type": "execute_result"
    }
   ],
   "source": [
    "nan_df = merged_df[merged_df['postal_code_y'].isna()]\n",
    "nan_df['region'].value_counts()"
   ]
  },
  {
   "cell_type": "markdown",
   "metadata": {},
   "source": [
    "*Save to csv*"
   ]
  },
  {
   "cell_type": "code",
   "execution_count": 13,
   "metadata": {},
   "outputs": [],
   "source": [
    "merged_df = merged_df.rename(columns={'postal_code_x': 'pc_crunchbase', \n",
    "                                      'postal_code_y': 'pc_filled'})\n",
    "\n",
    "merged_df = merged_df[['uuid', 'pc_crunchbase', 'pc_filled']]\n"
   ]
  },
  {
   "cell_type": "code",
   "execution_count": 14,
   "metadata": {},
   "outputs": [],
   "source": [
    "merged_df.to_csv('processed/ITA_processed.csv')"
   ]
  }
 ],
 "metadata": {
  "kernelspec": {
   "display_name": "base",
   "language": "python",
   "name": "python3"
  },
  "language_info": {
   "codemirror_mode": {
    "name": "ipython",
    "version": 3
   },
   "file_extension": ".py",
   "mimetype": "text/x-python",
   "name": "python",
   "nbconvert_exporter": "python",
   "pygments_lexer": "ipython3",
   "version": "3.9.13"
  }
 },
 "nbformat": 4,
 "nbformat_minor": 2
}
