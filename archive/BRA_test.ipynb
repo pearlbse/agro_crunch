{
 "cells": [
  {
   "cell_type": "markdown",
   "metadata": {},
   "source": [
    "### BRA\n",
    "\n",
    "+ `admin_name1` = `region`\n",
    "+ `admin_name2` = `city`\n",
    "+ `place_name` = `city`"
   ]
  },
  {
   "cell_type": "code",
   "execution_count": 17,
   "metadata": {},
   "outputs": [],
   "source": [
    "import pandas as pd\n",
    "import warnings\n",
    "from unidecode import unidecode\n",
    "\n",
    "warnings.filterwarnings(\"ignore\")"
   ]
  },
  {
   "cell_type": "markdown",
   "metadata": {},
   "source": [
    "**Crunchbase Dataframe**"
   ]
  },
  {
   "cell_type": "code",
   "execution_count": 18,
   "metadata": {},
   "outputs": [
    {
     "name": "stdout",
     "output_type": "stream",
     "text": [
      "<class 'pandas.core.frame.DataFrame'>\n",
      "Int64Index: 3187 entries, 713 to 163755\n",
      "Data columns (total 7 columns):\n",
      " #   Column        Non-Null Count  Dtype \n",
      "---  ------        --------------  ----- \n",
      " 0   uuid          3187 non-null   object\n",
      " 1   country_code  3187 non-null   object\n",
      " 2   state_code    0 non-null      object\n",
      " 3   region        3187 non-null   object\n",
      " 4   city          3187 non-null   object\n",
      " 5   address       1503 non-null   object\n",
      " 6   postal_code   741 non-null    object\n",
      "dtypes: object(7)\n",
      "memory usage: 199.2+ KB\n"
     ]
    }
   ],
   "source": [
    "df = pd.read_csv('input/foodtech.csv')\n",
    "df = df[df['country_code'] == 'CHN']\n",
    "df = df[['uuid','country_code', 'state_code', 'region', 'city', 'address', 'postal_code']]\n",
    "df.info()"
   ]
  },
  {
   "cell_type": "markdown",
   "metadata": {},
   "source": [
    "*Reformatting*"
   ]
  },
  {
   "cell_type": "code",
   "execution_count": 19,
   "metadata": {},
   "outputs": [],
   "source": [
    "df['city'] = df['city'].apply(unidecode)\n",
    "df['region'] = df['region'].apply(unidecode)\n",
    "\n",
    "df['city'] = df['city'].str.lower()\n",
    "df['region'] = df['region'].str.lower()"
   ]
  },
  {
   "cell_type": "markdown",
   "metadata": {},
   "source": [
    "**Postal Codes**"
   ]
  },
  {
   "cell_type": "code",
   "execution_count": 20,
   "metadata": {},
   "outputs": [],
   "source": [
    "codes = pd.read_json('input/geonames.json')\n",
    "codes = codes[codes['country_code'] == 'CN']"
   ]
  },
  {
   "cell_type": "code",
   "execution_count": 21,
   "metadata": {},
   "outputs": [],
   "source": [
    "codes['admin_name1'] = codes['admin_name1'].apply(lambda x: unidecode(x) if x is not None else None)\n",
    "codes['admin_name2'] = codes['admin_name2'].apply(lambda x: unidecode(x) if x is not None else None)\n",
    "codes['place_name'] = codes['place_name'].apply(lambda x: unidecode(x) if x is not None else None)"
   ]
  },
  {
   "cell_type": "markdown",
   "metadata": {},
   "source": [
    "`admin_name2`"
   ]
  },
  {
   "cell_type": "code",
   "execution_count": 22,
   "metadata": {},
   "outputs": [],
   "source": [
    "codes1 = codes.copy()\n",
    "codes1 = codes1[['postal_code','admin_name1', 'admin_name2', 'latitude', 'longitude']]"
   ]
  },
  {
   "cell_type": "code",
   "execution_count": 23,
   "metadata": {},
   "outputs": [],
   "source": [
    "# codes1.loc[(codes1['admin_name1'] == 'Sao Paulo') & (codes1['admin_name2'].str.contains('Campinas')), 'admin_name2'] = 'Campina'\n",
    "\n",
    "codes1['admin_name1'] = codes1['admin_name1'].str.lower()\n",
    "codes1['admin_name2'] = codes1['admin_name2'].str.lower()\n",
    "\n",
    "codes1.drop_duplicates(subset=['admin_name1', 'admin_name2'], inplace=True)"
   ]
  },
  {
   "cell_type": "code",
   "execution_count": 24,
   "metadata": {},
   "outputs": [],
   "source": [
    "merged_df = pd.merge(df, codes1, left_on=['city', 'region'], right_on=['admin_name2', 'admin_name1'], how='left')\n",
    "merged_df.drop_duplicates(subset=['uuid'], inplace=True)"
   ]
  },
  {
   "cell_type": "code",
   "execution_count": 25,
   "metadata": {},
   "outputs": [
    {
     "name": "stdout",
     "output_type": "stream",
     "text": [
      "<class 'pandas.core.frame.DataFrame'>\n",
      "Int64Index: 3187 entries, 0 to 3186\n",
      "Data columns (total 12 columns):\n",
      " #   Column         Non-Null Count  Dtype  \n",
      "---  ------         --------------  -----  \n",
      " 0   uuid           3187 non-null   object \n",
      " 1   country_code   3187 non-null   object \n",
      " 2   state_code     0 non-null      object \n",
      " 3   region         3187 non-null   object \n",
      " 4   city           3187 non-null   object \n",
      " 5   address        1503 non-null   object \n",
      " 6   postal_code_x  741 non-null    object \n",
      " 7   postal_code_y  595 non-null    object \n",
      " 8   admin_name1    595 non-null    object \n",
      " 9   admin_name2    595 non-null    object \n",
      " 10  latitude       595 non-null    float64\n",
      " 11  longitude      595 non-null    float64\n",
      "dtypes: float64(2), object(10)\n",
      "memory usage: 323.7+ KB\n"
     ]
    }
   ],
   "source": [
    "merged_df.info()"
   ]
  },
  {
   "cell_type": "code",
   "execution_count": 26,
   "metadata": {},
   "outputs": [],
   "source": [
    "codes2 = codes.copy()\n",
    "codes2 = codes2[['postal_code','admin_name1', 'place_name', 'latitude', 'longitude']]"
   ]
  },
  {
   "cell_type": "code",
   "execution_count": 27,
   "metadata": {},
   "outputs": [],
   "source": [
    "from fuzzywuzzy import fuzz\n",
    "from fuzzywuzzy import process\n",
    "\n",
    "\n",
    "merged_df = pd.merge(merged_df, codes2, left_on=['city', 'region'], right_on=['place_name', 'admin_name1'], how='left')\n",
    "fuzzy_matches = merged_df.apply(lambda row: fuzz.token_sort_ratio(row['city'], row['place_name']), axis=1)\n",
    "df_merge = merged_df[fuzzy_matches >= 65]\n",
    "# df_merge = df_merge.drop_duplicates(subset=[left_on, right_on])"
   ]
  },
  {
   "cell_type": "markdown",
   "metadata": {},
   "source": [
    "`place_name`"
   ]
  },
  {
   "cell_type": "code",
   "execution_count": 29,
   "metadata": {},
   "outputs": [],
   "source": [
    "codes2 = codes.copy()\n",
    "codes2 = codes2[['postal_code','admin_name1', 'place_name', 'latitude', 'longitude']]\n",
    "\n",
    "codes2['admin_name1'] = codes2['admin_name1'].str.lower()\n",
    "codes2['place_name'] = codes2['place_name'].str.lower()\n",
    "\n",
    "codes2.drop_duplicates(subset=['admin_name1', 'place_name'], inplace=True)\n"
   ]
  },
  {
   "cell_type": "code",
   "execution_count": 30,
   "metadata": {},
   "outputs": [
    {
     "name": "stdout",
     "output_type": "stream",
     "text": [
      "<class 'pandas.core.frame.DataFrame'>\n",
      "Int64Index: 6151 entries, 0 to 6150\n",
      "Data columns (total 17 columns):\n",
      " #   Column         Non-Null Count  Dtype  \n",
      "---  ------         --------------  -----  \n",
      " 0   uuid           6151 non-null   object \n",
      " 1   country_code   6151 non-null   object \n",
      " 2   state_code     0 non-null      object \n",
      " 3   region         6151 non-null   object \n",
      " 4   city           6151 non-null   object \n",
      " 5   address        3784 non-null   object \n",
      " 6   postal_code_x  3567 non-null   object \n",
      " 7   postal_code_y  4990 non-null   object \n",
      " 8   admin_name1_x  4990 non-null   object \n",
      " 9   admin_name2    4990 non-null   object \n",
      " 10  latitude_x     4990 non-null   float64\n",
      " 11  longitude_x    4990 non-null   float64\n",
      " 12  postal_code    4954 non-null   object \n",
      " 13  admin_name1_y  4954 non-null   object \n",
      " 14  place_name     4954 non-null   object \n",
      " 15  latitude_y     4954 non-null   float64\n",
      " 16  longitude_y    4954 non-null   float64\n",
      "dtypes: float64(4), object(13)\n",
      "memory usage: 865.0+ KB\n"
     ]
    }
   ],
   "source": [
    "merged_df = pd.merge(merged_df, codes2, left_on=['city', 'region'], right_on=['place_name', 'admin_name1'], how='left')\n",
    "merged_df.info()"
   ]
  },
  {
   "cell_type": "code",
   "execution_count": 31,
   "metadata": {},
   "outputs": [
    {
     "name": "stdout",
     "output_type": "stream",
     "text": [
      "<class 'pandas.core.frame.DataFrame'>\n",
      "Int64Index: 6151 entries, 0 to 6150\n",
      "Data columns (total 12 columns):\n",
      " #   Column         Non-Null Count  Dtype  \n",
      "---  ------         --------------  -----  \n",
      " 0   uuid           6151 non-null   object \n",
      " 1   country_code   6151 non-null   object \n",
      " 2   state_code     0 non-null      object \n",
      " 3   region         6151 non-null   object \n",
      " 4   city           6151 non-null   object \n",
      " 5   address        3784 non-null   object \n",
      " 6   postal_code_x  3567 non-null   object \n",
      " 7   postal_code_y  5005 non-null   object \n",
      " 8   admin_name1_x  4990 non-null   object \n",
      " 9   admin_name2    4990 non-null   object \n",
      " 10  latitude_x     5005 non-null   float64\n",
      " 11  longitude_x    5005 non-null   float64\n",
      "dtypes: float64(2), object(10)\n",
      "memory usage: 624.7+ KB\n"
     ]
    }
   ],
   "source": [
    "merged_df['postal_code_y'].fillna(merged_df['postal_code'], inplace=True)\n",
    "\n",
    "merged_df['latitude_x'].fillna(merged_df['latitude_y'], inplace=True)\n",
    "merged_df['longitude_x'].fillna(merged_df['longitude_y'], inplace=True)\n",
    "\n",
    "merged_df = merged_df.iloc[:, 0:12]\n",
    "\n",
    "merged_df.info()"
   ]
  },
  {
   "cell_type": "markdown",
   "metadata": {},
   "source": [
    "`place_name` ONLY"
   ]
  },
  {
   "cell_type": "code",
   "execution_count": 32,
   "metadata": {},
   "outputs": [
    {
     "name": "stdout",
     "output_type": "stream",
     "text": [
      "<class 'pandas.core.frame.DataFrame'>\n",
      "Int64Index: 6151 entries, 0 to 6150\n",
      "Data columns (total 17 columns):\n",
      " #   Column         Non-Null Count  Dtype  \n",
      "---  ------         --------------  -----  \n",
      " 0   uuid           6151 non-null   object \n",
      " 1   country_code   6151 non-null   object \n",
      " 2   state_code     0 non-null      object \n",
      " 3   region         6151 non-null   object \n",
      " 4   city           6151 non-null   object \n",
      " 5   address        3784 non-null   object \n",
      " 6   postal_code_x  3567 non-null   object \n",
      " 7   postal_code_y  5005 non-null   object \n",
      " 8   admin_name1_x  4990 non-null   object \n",
      " 9   admin_name2    4990 non-null   object \n",
      " 10  latitude_x     5005 non-null   float64\n",
      " 11  longitude_x    5005 non-null   float64\n",
      " 12  postal_code    5623 non-null   object \n",
      " 13  admin_name1    5623 non-null   object \n",
      " 14  place_name     5623 non-null   object \n",
      " 15  latitude       5623 non-null   float64\n",
      " 16  longitude      5623 non-null   float64\n",
      "dtypes: float64(4), object(13)\n",
      "memory usage: 865.0+ KB\n"
     ]
    }
   ],
   "source": [
    "codes2.drop_duplicates(subset=['place_name'], inplace=True)\n",
    "\n",
    "merged_df = pd.merge(merged_df, codes2, left_on=['city'], right_on=['place_name'], how='left')\n",
    "merged_df.info()"
   ]
  },
  {
   "cell_type": "code",
   "execution_count": 33,
   "metadata": {},
   "outputs": [
    {
     "name": "stdout",
     "output_type": "stream",
     "text": [
      "<class 'pandas.core.frame.DataFrame'>\n",
      "Int64Index: 6151 entries, 0 to 6150\n",
      "Data columns (total 12 columns):\n",
      " #   Column         Non-Null Count  Dtype  \n",
      "---  ------         --------------  -----  \n",
      " 0   uuid           6151 non-null   object \n",
      " 1   country_code   6151 non-null   object \n",
      " 2   state_code     0 non-null      object \n",
      " 3   region         6151 non-null   object \n",
      " 4   city           6151 non-null   object \n",
      " 5   address        3784 non-null   object \n",
      " 6   postal_code_x  3567 non-null   object \n",
      " 7   postal_code_y  5674 non-null   object \n",
      " 8   admin_name1_x  4990 non-null   object \n",
      " 9   admin_name2    4990 non-null   object \n",
      " 10  latitude_x     5674 non-null   float64\n",
      " 11  longitude_x    5674 non-null   float64\n",
      "dtypes: float64(2), object(10)\n",
      "memory usage: 624.7+ KB\n"
     ]
    }
   ],
   "source": [
    "merged_df['postal_code_y'].fillna(merged_df['postal_code'], inplace=True)\n",
    "\n",
    "merged_df['latitude_x'].fillna(merged_df['latitude'], inplace=True)\n",
    "merged_df['longitude_x'].fillna(merged_df['longitude'], inplace=True)\n",
    "\n",
    "merged_df = merged_df.iloc[:, 0:12]\n",
    "\n",
    "merged_df.info()"
   ]
  },
  {
   "cell_type": "markdown",
   "metadata": {},
   "source": [
    "**Filling NaNs with Existing Postal Codes**"
   ]
  },
  {
   "cell_type": "code",
   "execution_count": 34,
   "metadata": {},
   "outputs": [
    {
     "name": "stdout",
     "output_type": "stream",
     "text": [
      "<class 'pandas.core.frame.DataFrame'>\n",
      "Int64Index: 6151 entries, 0 to 6150\n",
      "Data columns (total 12 columns):\n",
      " #   Column         Non-Null Count  Dtype  \n",
      "---  ------         --------------  -----  \n",
      " 0   uuid           6151 non-null   object \n",
      " 1   country_code   6151 non-null   object \n",
      " 2   state_code     0 non-null      object \n",
      " 3   region         6151 non-null   object \n",
      " 4   city           6151 non-null   object \n",
      " 5   address        3784 non-null   object \n",
      " 6   postal_code_x  3567 non-null   object \n",
      " 7   postal_code_y  6000 non-null   object \n",
      " 8   admin_name1_x  4990 non-null   object \n",
      " 9   admin_name2    4990 non-null   object \n",
      " 10  latitude_x     5674 non-null   float64\n",
      " 11  longitude_x    5674 non-null   float64\n",
      "dtypes: float64(2), object(10)\n",
      "memory usage: 624.7+ KB\n"
     ]
    }
   ],
   "source": [
    "merged_df['postal_code_y'].fillna(merged_df['postal_code_x'], inplace=True)\n",
    "merged_df.info()"
   ]
  },
  {
   "cell_type": "markdown",
   "metadata": {},
   "source": [
    "*Across rows: df*"
   ]
  },
  {
   "cell_type": "code",
   "execution_count": 35,
   "metadata": {},
   "outputs": [],
   "source": [
    "codes_df = df[df['postal_code'].notna()]\n",
    "\n",
    "codes_df = codes_df[['region', 'city', 'postal_code']]\n",
    "codes_df.drop_duplicates(subset=['region', 'city'], inplace=True)"
   ]
  },
  {
   "cell_type": "code",
   "execution_count": 36,
   "metadata": {},
   "outputs": [],
   "source": [
    "merged_df = pd.merge(merged_df, codes_df, left_on=['city', 'region'], right_on=['city', 'region'], how='left')\n",
    "merged_df['postal_code_y'].fillna(merged_df['postal_code'], inplace=True)"
   ]
  },
  {
   "cell_type": "code",
   "execution_count": 37,
   "metadata": {},
   "outputs": [
    {
     "name": "stdout",
     "output_type": "stream",
     "text": [
      "<class 'pandas.core.frame.DataFrame'>\n",
      "Int64Index: 6151 entries, 0 to 6150\n",
      "Data columns (total 13 columns):\n",
      " #   Column         Non-Null Count  Dtype  \n",
      "---  ------         --------------  -----  \n",
      " 0   uuid           6151 non-null   object \n",
      " 1   country_code   6151 non-null   object \n",
      " 2   state_code     0 non-null      object \n",
      " 3   region         6151 non-null   object \n",
      " 4   city           6151 non-null   object \n",
      " 5   address        3784 non-null   object \n",
      " 6   postal_code_x  3567 non-null   object \n",
      " 7   postal_code_y  6109 non-null   object \n",
      " 8   admin_name1_x  4990 non-null   object \n",
      " 9   admin_name2    4990 non-null   object \n",
      " 10  latitude_x     5674 non-null   float64\n",
      " 11  longitude_x    5674 non-null   float64\n",
      " 12  postal_code    5809 non-null   object \n",
      "dtypes: float64(2), object(11)\n",
      "memory usage: 672.8+ KB\n"
     ]
    }
   ],
   "source": [
    "merged_df.info()"
   ]
  },
  {
   "cell_type": "code",
   "execution_count": 38,
   "metadata": {},
   "outputs": [],
   "source": [
    "merged_df = merged_df.iloc[:, 0:12]"
   ]
  },
  {
   "cell_type": "code",
   "execution_count": 39,
   "metadata": {},
   "outputs": [
    {
     "name": "stdout",
     "output_type": "stream",
     "text": [
      "<class 'pandas.core.frame.DataFrame'>\n",
      "Int64Index: 6151 entries, 0 to 6150\n",
      "Data columns (total 15 columns):\n",
      " #   Column         Non-Null Count  Dtype  \n",
      "---  ------         --------------  -----  \n",
      " 0   uuid           6151 non-null   object \n",
      " 1   country_code   6151 non-null   object \n",
      " 2   state_code     0 non-null      object \n",
      " 3   region         6151 non-null   object \n",
      " 4   city           6151 non-null   object \n",
      " 5   address        3784 non-null   object \n",
      " 6   postal_code_x  3567 non-null   object \n",
      " 7   postal_code_y  6109 non-null   object \n",
      " 8   admin_name1_x  4990 non-null   object \n",
      " 9   admin_name2    4990 non-null   object \n",
      " 10  latitude_x     5754 non-null   float64\n",
      " 11  longitude_x    5754 non-null   float64\n",
      " 12  postal_code    5754 non-null   object \n",
      " 13  latitude       5754 non-null   float64\n",
      " 14  longitude      5754 non-null   float64\n",
      "dtypes: float64(4), object(11)\n",
      "memory usage: 768.9+ KB\n"
     ]
    }
   ],
   "source": [
    "codes3 = codes.copy()\n",
    "codes3 = codes3[['postal_code', 'latitude', 'longitude']]\n",
    "\n",
    "merged_df = pd.merge(merged_df, codes3, left_on=['postal_code_y'], right_on=['postal_code'], how='left')\n",
    "\n",
    "merged_df['latitude_x'].fillna(merged_df['latitude'], inplace=True)\n",
    "merged_df['longitude_x'].fillna(merged_df['longitude'], inplace=True)\n",
    "\n",
    "merged_df.info()"
   ]
  },
  {
   "cell_type": "markdown",
   "metadata": {},
   "source": [
    "*Checking NaNs*"
   ]
  },
  {
   "cell_type": "code",
   "execution_count": null,
   "metadata": {},
   "outputs": [
    {
     "data": {
      "text/plain": [
       "rio de janeiro       10\n",
       "minas gerais          9\n",
       "sao paulo             8\n",
       "bahia                 6\n",
       "rio grande do sul     3\n",
       "amazonas              1\n",
       "mato grosso           1\n",
       "rondonia              1\n",
       "espirito santo        1\n",
       "parana                1\n",
       "para                  1\n",
       "Name: region, dtype: int64"
      ]
     },
     "execution_count": 49,
     "metadata": {},
     "output_type": "execute_result"
    }
   ],
   "source": [
    "nan_df = merged_df[merged_df['postal_code_y'].isna()]\n",
    "nan_df['region'].value_counts()"
   ]
  },
  {
   "cell_type": "markdown",
   "metadata": {},
   "source": [
    "*Save to csv*"
   ]
  },
  {
   "cell_type": "code",
   "execution_count": null,
   "metadata": {},
   "outputs": [],
   "source": [
    "merged_df = merged_df.rename(columns={'postal_code_x': 'pc_crunchbase', \n",
    "                                      'postal_code_y': 'pc_filled'})\n",
    "\n",
    "merged_df = merged_df[['uuid', 'pc_crunchbase', 'pc_filled']]\n"
   ]
  },
  {
   "cell_type": "code",
   "execution_count": null,
   "metadata": {},
   "outputs": [],
   "source": [
    "merged_df.to_csv('processed/BRA_processed.csv')"
   ]
  }
 ],
 "metadata": {
  "kernelspec": {
   "display_name": "base",
   "language": "python",
   "name": "python3"
  },
  "language_info": {
   "codemirror_mode": {
    "name": "ipython",
    "version": 3
   },
   "file_extension": ".py",
   "mimetype": "text/x-python",
   "name": "python",
   "nbconvert_exporter": "python",
   "pygments_lexer": "ipython3",
   "version": "3.9.13"
  }
 },
 "nbformat": 4,
 "nbformat_minor": 2
}
