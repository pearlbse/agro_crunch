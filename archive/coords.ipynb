{
 "cells": [
  {
   "cell_type": "code",
   "execution_count": 14,
   "metadata": {},
   "outputs": [],
   "source": [
    "import pandas as pd\n",
    "\n",
    "iso2 = 'CN'\n",
    "iso3 = 'CHN'\n",
    "\n",
    "df = pd.read_csv('general/' + iso3 + '_processed.csv')\n",
    "\n",
    "codes = pd.read_json('input/geonames.json')\n",
    "codes = codes[codes['country_code'] == iso2]\n"
   ]
  },
  {
   "cell_type": "code",
   "execution_count": 15,
   "metadata": {},
   "outputs": [],
   "source": [
    "df['pc_filled'] = df['pc_filled'].astype(str).str.rstrip('.0')\n",
    "codes['postal_code'] = codes['postal_code'].astype(str).str.rstrip('.0')\n"
   ]
  },
  {
   "cell_type": "code",
   "execution_count": 16,
   "metadata": {},
   "outputs": [
    {
     "name": "stdout",
     "output_type": "stream",
     "text": [
      "<class 'pandas.core.frame.DataFrame'>\n",
      "RangeIndex: 3187 entries, 0 to 3186\n",
      "Data columns (total 4 columns):\n",
      " #   Column         Non-Null Count  Dtype \n",
      "---  ------         --------------  ----- \n",
      " 0   Unnamed: 0     3187 non-null   int64 \n",
      " 1   uuid           3187 non-null   object\n",
      " 2   pc_crunchbase  741 non-null    object\n",
      " 3   pc_filled      3187 non-null   object\n",
      "dtypes: int64(1), object(3)\n",
      "memory usage: 99.7+ KB\n"
     ]
    }
   ],
   "source": [
    "df.info()"
   ]
  },
  {
   "cell_type": "code",
   "execution_count": 17,
   "metadata": {},
   "outputs": [],
   "source": [
    "codes.drop_duplicates(subset=['postal_code'], inplace=True)"
   ]
  },
  {
   "cell_type": "code",
   "execution_count": 18,
   "metadata": {},
   "outputs": [],
   "source": [
    "merged_df = pd.merge(df, codes[['postal_code', 'latitude', 'longitude']], left_on='pc_filled', right_on='postal_code', how='left')\n"
   ]
  },
  {
   "cell_type": "code",
   "execution_count": 19,
   "metadata": {},
   "outputs": [
    {
     "name": "stdout",
     "output_type": "stream",
     "text": [
      "<class 'pandas.core.frame.DataFrame'>\n",
      "Int64Index: 3187 entries, 0 to 3186\n",
      "Data columns (total 7 columns):\n",
      " #   Column         Non-Null Count  Dtype  \n",
      "---  ------         --------------  -----  \n",
      " 0   Unnamed: 0     3187 non-null   int64  \n",
      " 1   uuid           3187 non-null   object \n",
      " 2   pc_crunchbase  741 non-null    object \n",
      " 3   pc_filled      3187 non-null   object \n",
      " 4   postal_code    2261 non-null   object \n",
      " 5   latitude       2261 non-null   float64\n",
      " 6   longitude      2261 non-null   float64\n",
      "dtypes: float64(2), int64(1), object(4)\n",
      "memory usage: 199.2+ KB\n"
     ]
    }
   ],
   "source": [
    "merged_df.info()"
   ]
  }
 ],
 "metadata": {
  "kernelspec": {
   "display_name": "Python 3",
   "language": "python",
   "name": "python3"
  },
  "language_info": {
   "codemirror_mode": {
    "name": "ipython",
    "version": 3
   },
   "file_extension": ".py",
   "mimetype": "text/x-python",
   "name": "python",
   "nbconvert_exporter": "python",
   "pygments_lexer": "ipython3",
   "version": "3.9.13"
  }
 },
 "nbformat": 4,
 "nbformat_minor": 2
}
